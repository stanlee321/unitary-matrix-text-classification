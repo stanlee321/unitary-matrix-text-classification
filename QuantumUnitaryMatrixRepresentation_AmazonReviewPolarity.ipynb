{
  "nbformat": 4,
  "nbformat_minor": 0,
  "metadata": {
    "colab": {
      "name": "QuantumUnitaryMatrixRepresentation_AmazonReviewPolarity.ipynb",
      "provenance": [],
      "collapsed_sections": [],
      "authorship_tag": "ABX9TyMmAy1heYhlUwmJu9YHFesX",
      "include_colab_link": true
    },
    "kernelspec": {
      "display_name": "Python 3",
      "name": "python3"
    },
    "language_info": {
      "name": "python"
    }
  },
  "cells": [
    {
      "cell_type": "markdown",
      "metadata": {
        "id": "view-in-github",
        "colab_type": "text"
      },
      "source": [
        "<a href=\"https://colab.research.google.com/github/stanlee321/unitary-matrix-text-classification/blob/master/QuantumUnitaryMatrixRepresentation_AmazonReviewPolarity.ipynb\" target=\"_parent\"><img src=\"https://colab.research.google.com/assets/colab-badge.svg\" alt=\"Open In Colab\"/></a>"
      ]
    },
    {
      "cell_type": "markdown",
      "metadata": {
        "id": "GxbJBM0bkRF1"
      },
      "source": [
        "# Unitary Text Classification\n",
        "\n"
      ]
    },
    {
      "cell_type": "markdown",
      "metadata": {
        "id": "WnAKf81kmuZt"
      },
      "source": [
        "## 1. Introduction\n",
        "\n",
        "This notebook describes how to train a simple 1 layer neural network to classify text in two categories, multi class classification is still in research and develop.\n",
        "The novel part here is the input data for the neural network, combining the theory around random unitary matrices in qunatum mechanics, we where able to represent the text corpus in a feature vectors in every iteration of the learning process, this features vectors contains all the information from the text corpus input so the Neural Network can learn from this representation more fast and quikly. We test this approach with the AGNews dataset and obtain state of the art results in a few epochs.\n",
        "This notebook uses the same functions as the AGNews test case with the difference that here we are using the AmazonReviewPolarity dataset which is more diverse, large and complex for test this new procedure.\n",
        "\n",
        "### 1.1 Methodology\n",
        "\n",
        "We are using a NxN unitary matrix representation for every word in our corpus, this is the major contrast with the traditional tokenizacion process that assings a single number as a token to a word in our dictionary of words.\n",
        "This NxN unitary matrix is contructed based on the Haar measure,  according to https://pennylane.ai/qml/demos/tutorial_haar_measure.html . We are using the the random unitary group generated from scipy.stats that follows the haar measure.\n",
        "\n",
        "Once we have a way to generate a trully random unitary matrix, we proceed to tokenize the words in our our corpus dictionary with one of this random unitary matrices. The procedure of how to do it is described below in the code.\n",
        "\n",
        "Once we tokenize our words in our dataset, we proceed to use to calculate the Canonical Coset decomposition of our sequence of matrices to obtain our feature representation for a given sequence of texts, the procedure for do that is:\n",
        "\n",
        "*  create function for create the composite matrix ( Linear Algebra and Cannonical Coset thoery)\n",
        "*  we multiply the sequence of matrices (dot product)\n",
        "* and we obtain a final composite matrix ( feature representation for a given piease of text)\n",
        "\n",
        "\n",
        "The procees of create the cannonical representation is based on some hyperparameters like epsilon which control the importance of the most rare or common words in our dataset.\n",
        "\n",
        "Once we generate our features table, we feed it this NxNxBatchSize vector to our neural network or Random Forest or XGBost algorithm, since this vector contains all the informacion for a given sequence of text\n",
        "\n",
        "### 1.2 Intuition\n",
        "\n",
        "The intuition begind this approach is as follows:\n"
      ]
    },
    {
      "cell_type": "markdown",
      "metadata": {
        "id": "2DntjgvPt0E8"
      },
      "source": [
        "**Generate a NxN random unitary matrix**"
      ]
    },
    {
      "cell_type": "code",
      "metadata": {
        "id": "NGHdcaKXt7sz"
      },
      "source": [
        "from scipy.stats import unitary_group\n",
        "from scipy import linalg\n",
        "import numpy as np\n",
        "import matplotlib.pyplot as plt\n",
        "import itertools\n",
        "import pandas as pd"
      ],
      "execution_count": 65,
      "outputs": []
    },
    {
      "cell_type": "code",
      "metadata": {
        "colab": {
          "base_uri": "https://localhost:8080/"
        },
        "id": "UflOpEVeuGcw",
        "outputId": "4f6e5322-1018-4e5f-cc06-e91af013eff6"
      },
      "source": [
        "# Size of the  Random Unitary Matrix\n",
        "N = 4\n",
        "\n",
        "# Random Unitary Matrix\n",
        "W = unitary_group.rvs(N)\n",
        "\n",
        "print(W)\n",
        "print(W.shape)"
      ],
      "execution_count": 12,
      "outputs": [
        {
          "output_type": "stream",
          "name": "stdout",
          "text": [
            "[[-0.29451007-0.13368404j  0.35136991+0.01513282j  0.76413021+0.34520029j\n",
            "  -0.24968574+0.07938127j]\n",
            " [ 0.10593126+0.64527815j  0.54463965+0.12525103j -0.02026642+0.18488991j\n",
            "   0.46099281-0.1138645j ]\n",
            " [ 0.20644072+0.43518298j -0.00778737-0.23111007j -0.1963265 +0.26422397j\n",
            "  -0.56755934+0.53295731j]\n",
            " [-0.11215581-0.47244697j  0.64832523-0.30031967j -0.38476572-0.07709551j\n",
            "   0.09137862+0.30225652j]]\n",
            "(4, 4)\n"
          ]
        }
      ]
    },
    {
      "cell_type": "markdown",
      "metadata": {
        "id": "C9pRq2b5vUj8"
      },
      "source": [
        "**Householder decomposition**"
      ]
    },
    {
      "cell_type": "markdown",
      "metadata": {
        "id": "sjQnWtlVvX6B"
      },
      "source": [
        "In linear algebra, a Householder transformation (also known as a Householder reflection or elementary reflector) is a linear transformation that describes a reflection about a plane or hyperplane containing the origin. (Wikipedia)"
      ]
    },
    {
      "cell_type": "code",
      "metadata": {
        "id": "cy3TtjdguaFd"
      },
      "source": [
        "# Householder decomposition definition\n",
        "\n",
        "def HouseholderLeftDecomposition(W):\n",
        "    \"\"\"\n",
        "    This fransform a given W matrix into a set of cannonical coset factors.\n",
        "\n",
        "    Params:\n",
        "        W: NxN Random Unitary Matrix\n",
        "    Returns:\n",
        "        factors_list: list of NxN unitary matrices , Householder factors.\n",
        "    \"\"\"\n",
        "    H = W.copy()  \n",
        "    n = H.shape[0]\n",
        "\n",
        "    ee = np.identity(n)\n",
        "\n",
        "    factor_list = []\n",
        "\n",
        "    for i in range(H.shape[0]-1):\n",
        "\n",
        "        col = H[:,i]\n",
        "        phase = np.angle(col[i])\n",
        "        u = np.array([col + np.exp(1j*phase)*ee[i] ])\n",
        "        uu = u.conj().T.dot(u)\n",
        "        Q = (ee - 2*uu/np.real(np.trace(uu))).T\n",
        "        H = Q.dot(H)\n",
        "        factor_list.append(Q)\n",
        "\n",
        "    factor_list.append(H)\n",
        "\n",
        "    return factor_list"
      ],
      "execution_count": 6,
      "outputs": []
    },
    {
      "cell_type": "code",
      "metadata": {
        "colab": {
          "base_uri": "https://localhost:8080/"
        },
        "id": "nEFQ_MdrwO_d",
        "outputId": "40c3e8ac-8048-4cc6-8424-3a46ba1e9a69"
      },
      "source": [
        "H_factors = HouseholderLeftDecomposition(W)\n",
        "\n",
        "print(H_factors)\n",
        "\n",
        "print(len(H_factors))"
      ],
      "execution_count": 13,
      "outputs": [
        {
          "output_type": "stream",
          "name": "stdout",
          "text": [
            "[array([[-0.32343099+0.j        ,  0.36317242-0.54379327j,\n",
            "         0.36785557-0.31094095j, -0.2974039 +0.3838437j ],\n",
            "       [ 0.36317242+0.54379327j,  0.67689639+0.j        ,\n",
            "        -0.22871052-0.06582301j,  0.23933285+0.01686887j],\n",
            "       [ 0.36785557+0.31094095j, -0.22871052+0.06582301j,\n",
            "         0.82469657+0.j        ,  0.17284952-0.03681642j],\n",
            "       [-0.2974039 -0.3838437j ,  0.23933285-0.01686887j,\n",
            "         0.17284952+0.03681642j,  0.82183803+0.j        ]]), array([[ 1.00000000e+00+0.00000000e+00j,  8.92029472e-17-3.84693505e-17j,\n",
            "         4.95799143e-18+8.29079256e-18j,  3.29539250e-17+2.32976563e-17j],\n",
            "       [ 8.92029472e-17+3.84693505e-17j, -6.91362536e-01+0.00000000e+00j,\n",
            "        -2.21031890e-02-1.66732510e-01j, -3.66219194e-01-5.99677468e-01j],\n",
            "       [ 4.95799143e-18-8.29079256e-18j, -2.21031890e-02+1.66732510e-01j,\n",
            "         9.83274857e-01+0.00000000e+00j, -6.39013452e-02+2.82647037e-02j],\n",
            "       [ 3.29539250e-17-2.32976563e-17j, -3.66219194e-01+5.99677468e-01j,\n",
            "        -6.39013452e-02-2.82647037e-02j,  7.08087679e-01+0.00000000e+00j]]), array([[ 1.00000000e+00+0.00000000e+00j,  1.18859723e-32-2.63304438e-32j,\n",
            "         1.58199975e-16-1.05639508e-16j, -8.53537954e-17-5.65325324e-17j],\n",
            "       [ 1.18859723e-32+2.63304438e-32j,  1.00000000e+00+0.00000000e+00j,\n",
            "        -1.99789240e-16-1.24703816e-16j, -2.03142387e-17+1.25110953e-16j],\n",
            "       [ 1.58199975e-16+1.05639508e-16j, -1.99789240e-16+1.24703816e-16j,\n",
            "        -5.50819952e-01+0.00000000e+00j,  3.22742674e-01+7.69697698e-01j],\n",
            "       [-8.53537954e-17+5.65325324e-17j, -2.03142387e-17-1.25110953e-16j,\n",
            "         3.22742674e-01-7.69697698e-01j,  5.50819952e-01+0.00000000e+00j]]), array([[ 9.10580869e-01+4.13330959e-01j, -1.39429025e-32+1.36064520e-32j,\n",
            "         1.23259516e-32+6.16297582e-33j, -4.04094940e-18+1.07487884e-16j],\n",
            "       [ 1.53202310e-16+1.54096588e-16j, -9.18249966e-01-3.96001263e-01j,\n",
            "         2.46519033e-32-2.46519033e-32j,  3.47609368e-16-8.66779249e-17j],\n",
            "       [ 6.21022081e-17+4.48727197e-16j,  1.42249894e-16-3.62125762e-17j,\n",
            "         2.25436459e-01-9.74257873e-01j, -1.11022302e-16+2.22044605e-16j],\n",
            "       [-7.30156961e-17+9.40376934e-17j, -2.70549456e-17+1.98379651e-16j,\n",
            "         1.11022302e-16+2.77555756e-17j,  2.93412462e-01+9.55985945e-01j]])]\n",
            "4\n"
          ]
        }
      ]
    },
    {
      "cell_type": "code",
      "metadata": {
        "colab": {
          "base_uri": "https://localhost:8080/"
        },
        "id": "VcXIWtWIwlHL",
        "outputId": "ff550516-f2ab-4c8e-ede8-859da04bbbd8"
      },
      "source": [
        "## According to Theory , this must be zero\n",
        "\n",
        "np.round( W - H_factors[0]@H_factors[1]@H_factors[2]@H_factors[3], decimals=9)"
      ],
      "execution_count": 14,
      "outputs": [
        {
          "output_type": "execute_result",
          "data": {
            "text/plain": [
              "array([[ 0.+0.j,  0.-0.j,  0.+0.j,  0.+0.j],\n",
              "       [ 0.+0.j,  0.+0.j,  0.+0.j, -0.+0.j],\n",
              "       [-0.-0.j, -0.-0.j, -0.+0.j,  0.-0.j],\n",
              "       [ 0.+0.j,  0.+0.j, -0.+0.j, -0.-0.j]])"
            ]
          },
          "metadata": {},
          "execution_count": 14
        }
      ]
    },
    {
      "cell_type": "markdown",
      "metadata": {
        "id": "v0R3uLIOw3cA"
      },
      "source": [
        "Se we where able to decompose the matrix W into a set of matrices, this procedure is called Cannonical Coset Decomposition."
      ]
    },
    {
      "cell_type": "markdown",
      "metadata": {
        "id": "yi4m2xJbxaKe"
      },
      "source": [
        "### 1.3 Canonical Coset Decomposition\n",
        "A unitary matrix W can be decomposed in terms of a diagonal unitary group and a sequence of coset matrices.\n",
        "\n",
        "* https://arxiv.org/pdf/1008.2477.pdf\n",
        "\n",
        "* https://arxiv.org/pdf/0910.2910.pdf\n",
        "\n",
        "* Gilmore, Robert. Lie groups, Lie algebras, and some of their applications. Courier Corporation, 2012."
      ]
    },
    {
      "cell_type": "code",
      "metadata": {
        "id": "sfj38y5bxuQe"
      },
      "source": [
        "# CanonicalCosetLeftDecomposition definition\n",
        "\n",
        "def CanonicalCosetLeftDecomposition(W):\n",
        "    \"\"\"\n",
        "    This calculates the Canonical Coset Decompostion for a given\n",
        "    NxN random unitary matrix W\n",
        "\n",
        "    Params:\n",
        "\n",
        "        W: NxN Random Unitary Matrix\n",
        "\n",
        "    Returns:\n",
        "        factors: a list for the cannoical coset factors calculated for W\n",
        "    \"\"\"\n",
        "    \n",
        "    def ReflectionMatrix(n,i):\n",
        "        \"\"\"\n",
        "        This reflect a matrix for given i around the Identity\n",
        "        \"\"\"\n",
        "        if i < n-1:\n",
        "            r = np.identity(n)\n",
        "            r[i,i] = -1\n",
        "            return r\n",
        "        elif i == n-1:\n",
        "            r = -np.identity(n)\n",
        "            r[i,i] = 1\n",
        "            return r\n",
        "    \n",
        "    n = W.shape[0]\n",
        "    \n",
        "    factors = HouseholderLeftDecomposition(W)\n",
        "    \n",
        "    factors = [ F@ReflectionMatrix(n,i) for i,F in enumerate(factors) ]\n",
        "    \n",
        "    return factors\n"
      ],
      "execution_count": 16,
      "outputs": []
    },
    {
      "cell_type": "code",
      "metadata": {
        "id": "6-onKzLHxrg0"
      },
      "source": [
        "CC_factors = CanonicalCosetLeftDecomposition(W)"
      ],
      "execution_count": 17,
      "outputs": []
    },
    {
      "cell_type": "markdown",
      "metadata": {
        "id": "73JewiNNym_J"
      },
      "source": [
        "The product of the sequence of canonical cosets is the original matrix\n",
        "\n",
        "$W = C^{(3)} C^{(2)} C^{(1)} D $"
      ]
    },
    {
      "cell_type": "code",
      "metadata": {
        "colab": {
          "base_uri": "https://localhost:8080/"
        },
        "id": "cXZ6JsTExBEb",
        "outputId": "5c1fc1cf-70e8-4ed8-a321-b8604af69283"
      },
      "source": [
        "np.round( W - CC_factors[0]@CC_factors[1]@CC_factors[2]@CC_factors[3]  ,decimals=9)"
      ],
      "execution_count": 18,
      "outputs": [
        {
          "output_type": "execute_result",
          "data": {
            "text/plain": [
              "array([[ 0.-0.j,  0.-0.j,  0.+0.j, -0.-0.j],\n",
              "       [ 0.+0.j,  0.-0.j,  0.-0.j, -0.+0.j],\n",
              "       [-0.+0.j, -0.-0.j, -0.+0.j,  0.-0.j],\n",
              "       [-0.+0.j,  0.+0.j, -0.-0.j,  0.+0.j]])"
            ]
          },
          "metadata": {},
          "execution_count": 18
        }
      ]
    },
    {
      "cell_type": "markdown",
      "metadata": {
        "id": "ONrtWmG7zZJu"
      },
      "source": [
        "**Taking the Factor 3 (index 0 in list)**"
      ]
    },
    {
      "cell_type": "markdown",
      "metadata": {
        "id": "xX2XQtGvy9_m"
      },
      "source": [
        "Each canonical coset is unitary. For example"
      ]
    },
    {
      "cell_type": "code",
      "metadata": {
        "colab": {
          "base_uri": "https://localhost:8080/"
        },
        "id": "OrOT50iSy-dr",
        "outputId": "53b02463-3a19-43e4-f5b6-d8b95816ceeb"
      },
      "source": [
        "np.round( CC_factors[0]@CC_factors[0].T.conj() , decimals=12)"
      ],
      "execution_count": 23,
      "outputs": [
        {
          "output_type": "execute_result",
          "data": {
            "text/plain": [
              "array([[ 1.+0.j, -0.+0.j, -0.+0.j,  0.-0.j],\n",
              "       [-0.-0.j,  1.+0.j,  0.+0.j,  0.-0.j],\n",
              "       [-0.-0.j,  0.-0.j,  1.+0.j, -0.+0.j],\n",
              "       [ 0.+0.j,  0.+0.j, -0.-0.j,  1.+0.j]])"
            ]
          },
          "metadata": {},
          "execution_count": 23
        }
      ]
    },
    {
      "cell_type": "markdown",
      "metadata": {
        "id": "vyaXleIYwknn"
      },
      "source": [
        "Each canonical coset has determinant 1 (No odd reflections included)"
      ]
    },
    {
      "cell_type": "code",
      "metadata": {
        "colab": {
          "base_uri": "https://localhost:8080/"
        },
        "id": "MUOSlwEytxbm",
        "outputId": "a0dd445f-c5ba-4b4a-fc40-1a8ef4befa17"
      },
      "source": [
        "np.round( np.linalg.det( CC_factors[0] )  ,decimals=12)"
      ],
      "execution_count": 24,
      "outputs": [
        {
          "output_type": "execute_result",
          "data": {
            "text/plain": [
              "(1+0j)"
            ]
          },
          "metadata": {},
          "execution_count": 24
        }
      ]
    },
    {
      "cell_type": "code",
      "metadata": {
        "colab": {
          "base_uri": "https://localhost:8080/"
        },
        "id": "OggWTr5v0C19",
        "outputId": "24a0dc70-32f5-4f8d-9076-a7278efc9446"
      },
      "source": [
        "np.abs(CC_factors[0])"
      ],
      "execution_count": 27,
      "outputs": [
        {
          "output_type": "execute_result",
          "data": {
            "text/plain": [
              "array([[0.32343099, 0.65391538, 0.48166586, 0.48557705],\n",
              "       [0.65391538, 0.67689639, 0.23799406, 0.2399266 ],\n",
              "       [0.48166586, 0.23799406, 0.82469657, 0.17672692],\n",
              "       [0.48557705, 0.2399266 , 0.17672692, 0.82183803]])"
            ]
          },
          "metadata": {},
          "execution_count": 27
        }
      ]
    },
    {
      "cell_type": "code",
      "metadata": {
        "colab": {
          "base_uri": "https://localhost:8080/",
          "height": 355
        },
        "id": "lZeD9E-yz6PW",
        "outputId": "c0ccd6fa-a047-4949-9945-e3722c9bf203"
      },
      "source": [
        "plt.imshow( np.abs(CC_factors[0]) ,cmap='Greys')\n",
        "plt.colorbar()\n",
        "plt.yticks( range(4) )"
      ],
      "execution_count": 26,
      "outputs": [
        {
          "output_type": "execute_result",
          "data": {
            "text/plain": [
              "([<matplotlib.axis.YTick at 0x7f9fd1399950>,\n",
              "  <matplotlib.axis.YTick at 0x7f9fd1399c50>,\n",
              "  <matplotlib.axis.YTick at 0x7f9fd5387490>,\n",
              "  <matplotlib.axis.YTick at 0x7f9fd1318dd0>],\n",
              " <a list of 4 Text major ticklabel objects>)"
            ]
          },
          "metadata": {},
          "execution_count": 26
        },
        {
          "output_type": "display_data",
          "data": {
            "image/png": "[encoded data removed]",
            "text/plain": [
              "<Figure size 432x288 with 2 Axes>"
            ]
          },
          "metadata": {
            "needs_background": "light"
          }
        }
      ]
    },
    {
      "cell_type": "markdown",
      "metadata": {
        "id": "iEhiwgJ40UII"
      },
      "source": [
        "The third canonical coset is $C^{(3)}$:"
      ]
    },
    {
      "cell_type": "code",
      "metadata": {
        "colab": {
          "base_uri": "https://localhost:8080/"
        },
        "id": "q45eRtUe057U",
        "outputId": "c9c1da9d-0cf9-4d40-d874-04a041b9e691"
      },
      "source": [
        "CC_factors[0]"
      ],
      "execution_count": 31,
      "outputs": [
        {
          "output_type": "execute_result",
          "data": {
            "text/plain": [
              "array([[ 0.32343099+0.j        ,  0.36317242-0.54379327j,\n",
              "         0.36785557-0.31094095j, -0.2974039 +0.3838437j ],\n",
              "       [-0.36317242-0.54379327j,  0.67689639+0.j        ,\n",
              "        -0.22871052-0.06582301j,  0.23933285+0.01686887j],\n",
              "       [-0.36785557-0.31094095j, -0.22871052+0.06582301j,\n",
              "         0.82469657+0.j        ,  0.17284952-0.03681642j],\n",
              "       [ 0.2974039 +0.3838437j ,  0.23933285-0.01686887j,\n",
              "         0.17284952+0.03681642j,  0.82183803+0.j        ]])"
            ]
          },
          "metadata": {},
          "execution_count": 31
        }
      ]
    },
    {
      "cell_type": "code",
      "metadata": {
        "colab": {
          "base_uri": "https://localhost:8080/",
          "height": 168
        },
        "id": "dQWGfXIdtuDZ",
        "outputId": "6be649a4-d877-4b99-df9c-e9b3f09dcc02"
      },
      "source": [
        "# Show as table this C3 matrix\n",
        "pd.DataFrame( np.round(CC_factors[0], decimals=5) )"
      ],
      "execution_count": 29,
      "outputs": [
        {
          "output_type": "execute_result",
          "data": {
            "text/html": [
              "<div>\n",
              "<style scoped>\n",
              "    .dataframe tbody tr th:only-of-type {\n",
              "        vertical-align: middle;\n",
              "    }\n",
              "\n",
              "    .dataframe tbody tr th {\n",
              "        vertical-align: top;\n",
              "    }\n",
              "\n",
              "    .dataframe thead th {\n",
              "        text-align: right;\n",
              "    }\n",
              "</style>\n",
              "<table border=\"1\" class=\"dataframe\">\n",
              "  <thead>\n",
              "    <tr style=\"text-align: right;\">\n",
              "      <th></th>\n",
              "      <th>0</th>\n",
              "      <th>1</th>\n",
              "      <th>2</th>\n",
              "      <th>3</th>\n",
              "    </tr>\n",
              "  </thead>\n",
              "  <tbody>\n",
              "    <tr>\n",
              "      <th>0</th>\n",
              "      <td>0.323430+0.000000j</td>\n",
              "      <td>0.363170-0.543790j</td>\n",
              "      <td>0.367860-0.310940j</td>\n",
              "      <td>-0.297400+0.383840j</td>\n",
              "    </tr>\n",
              "    <tr>\n",
              "      <th>1</th>\n",
              "      <td>-0.363170-0.543790j</td>\n",
              "      <td>0.676900+0.000000j</td>\n",
              "      <td>-0.228710-0.065820j</td>\n",
              "      <td>0.239330+0.016870j</td>\n",
              "    </tr>\n",
              "    <tr>\n",
              "      <th>2</th>\n",
              "      <td>-0.367860-0.310940j</td>\n",
              "      <td>-0.228710+0.065820j</td>\n",
              "      <td>0.824700+0.000000j</td>\n",
              "      <td>0.172850-0.036820j</td>\n",
              "    </tr>\n",
              "    <tr>\n",
              "      <th>3</th>\n",
              "      <td>0.297400+0.383840j</td>\n",
              "      <td>0.239330-0.016870j</td>\n",
              "      <td>0.172850+0.036820j</td>\n",
              "      <td>0.821840+0.000000j</td>\n",
              "    </tr>\n",
              "  </tbody>\n",
              "</table>\n",
              "</div>"
            ],
            "text/plain": [
              "                    0  ...                   3\n",
              "0  0.323430+0.000000j  ... -0.297400+0.383840j\n",
              "1 -0.363170-0.543790j  ...  0.239330+0.016870j\n",
              "2 -0.367860-0.310940j  ...  0.172850-0.036820j\n",
              "3  0.297400+0.383840j  ...  0.821840+0.000000j\n",
              "\n",
              "[4 rows x 4 columns]"
            ]
          },
          "metadata": {},
          "execution_count": 29
        }
      ]
    },
    {
      "cell_type": "markdown",
      "metadata": {
        "id": "092lMEOy0r0w"
      },
      "source": [
        "This whole canonical coset $C^{(3)}$ can be fully reproduced by the following components of the first row\n",
        "$ \\vec{X}_{01} = C^{(3)}_{ 0,1:4  }$"
      ]
    },
    {
      "cell_type": "code",
      "metadata": {
        "colab": {
          "base_uri": "https://localhost:8080/",
          "height": 78
        },
        "id": "Z4tjcw94tuJu",
        "outputId": "030e1092-a94b-404f-a457-ab46321f0d6c"
      },
      "source": [
        "X_01 = np.array([CC_factors[0][0,1:]])\n",
        "\n",
        "pd.DataFrame(X_01)"
      ],
      "execution_count": 30,
      "outputs": [
        {
          "output_type": "execute_result",
          "data": {
            "text/html": [
              "<div>\n",
              "<style scoped>\n",
              "    .dataframe tbody tr th:only-of-type {\n",
              "        vertical-align: middle;\n",
              "    }\n",
              "\n",
              "    .dataframe tbody tr th {\n",
              "        vertical-align: top;\n",
              "    }\n",
              "\n",
              "    .dataframe thead th {\n",
              "        text-align: right;\n",
              "    }\n",
              "</style>\n",
              "<table border=\"1\" class=\"dataframe\">\n",
              "  <thead>\n",
              "    <tr style=\"text-align: right;\">\n",
              "      <th></th>\n",
              "      <th>0</th>\n",
              "      <th>1</th>\n",
              "      <th>2</th>\n",
              "    </tr>\n",
              "  </thead>\n",
              "  <tbody>\n",
              "    <tr>\n",
              "      <th>0</th>\n",
              "      <td>0.363172-0.543793j</td>\n",
              "      <td>0.367856-0.310941j</td>\n",
              "      <td>-0.297404+0.383844j</td>\n",
              "    </tr>\n",
              "  </tbody>\n",
              "</table>\n",
              "</div>"
            ],
            "text/plain": [
              "                    0                   1                   2\n",
              "0  0.363172-0.543793j  0.367856-0.310941j -0.297404+0.383844j"
            ]
          },
          "metadata": {},
          "execution_count": 30
        }
      ]
    },
    {
      "cell_type": "markdown",
      "metadata": {
        "id": "dmZkQTnD1Ra7"
      },
      "source": [
        "which is the same as the following components of the first column $ \\vec{X}_{10}^{\\dagger} =  C^{(3)}_{ 1:4,0  }$"
      ]
    },
    {
      "cell_type": "code",
      "metadata": {
        "colab": {
          "base_uri": "https://localhost:8080/",
          "height": 138
        },
        "id": "sFv5CsjjtuOs",
        "outputId": "c53c1f23-1e34-415b-ea98-c235b383ddfd"
      },
      "source": [
        "X_10 = -np.array([ [x.conj()] for x in CC_factors[0][1:,0]])\n",
        "pd.DataFrame(X_10)"
      ],
      "execution_count": 33,
      "outputs": [
        {
          "output_type": "execute_result",
          "data": {
            "text/html": [
              "<div>\n",
              "<style scoped>\n",
              "    .dataframe tbody tr th:only-of-type {\n",
              "        vertical-align: middle;\n",
              "    }\n",
              "\n",
              "    .dataframe tbody tr th {\n",
              "        vertical-align: top;\n",
              "    }\n",
              "\n",
              "    .dataframe thead th {\n",
              "        text-align: right;\n",
              "    }\n",
              "</style>\n",
              "<table border=\"1\" class=\"dataframe\">\n",
              "  <thead>\n",
              "    <tr style=\"text-align: right;\">\n",
              "      <th></th>\n",
              "      <th>0</th>\n",
              "    </tr>\n",
              "  </thead>\n",
              "  <tbody>\n",
              "    <tr>\n",
              "      <th>0</th>\n",
              "      <td>0.363172-0.543793j</td>\n",
              "    </tr>\n",
              "    <tr>\n",
              "      <th>1</th>\n",
              "      <td>0.367856-0.310941j</td>\n",
              "    </tr>\n",
              "    <tr>\n",
              "      <th>2</th>\n",
              "      <td>-0.297404+0.383844j</td>\n",
              "    </tr>\n",
              "  </tbody>\n",
              "</table>\n",
              "</div>"
            ],
            "text/plain": [
              "                    0\n",
              "0  0.363172-0.543793j\n",
              "1  0.367856-0.310941j\n",
              "2 -0.297404+0.383844j"
            ]
          },
          "metadata": {},
          "execution_count": 33
        }
      ]
    },
    {
      "cell_type": "markdown",
      "metadata": {
        "id": "F8Esu64o1nl5"
      },
      "source": [
        "which can be confirmed as"
      ]
    },
    {
      "cell_type": "code",
      "metadata": {
        "colab": {
          "base_uri": "https://localhost:8080/"
        },
        "id": "fWdxWyk6tuWe",
        "outputId": "2a62489d-00ac-41d1-e931-6bda0c5cf260"
      },
      "source": [
        "(X_01) - (X_10).T"
      ],
      "execution_count": 34,
      "outputs": [
        {
          "output_type": "execute_result",
          "data": {
            "text/plain": [
              "array([[0.+0.j, 0.+0.j, 0.+0.j]])"
            ]
          },
          "metadata": {},
          "execution_count": 34
        }
      ]
    },
    {
      "cell_type": "markdown",
      "metadata": {
        "id": "eXhtU_LH1xAu"
      },
      "source": [
        "The first row of the first column of the canonical $C^{(3)}_{00}$ is a scalar number and reproduced as \n",
        "$\\sqrt{1- X_{01}X_{01}^{\\dagger} }$"
      ]
    },
    {
      "cell_type": "code",
      "metadata": {
        "colab": {
          "base_uri": "https://localhost:8080/"
        },
        "id": "XCfslwi3tubV",
        "outputId": "02463ef7-0a24-499b-d250-90d5eb3a50fd"
      },
      "source": [
        "X_00 = np.sqrt( 1-np.real(X_01@X_01.conj().T)  )\n",
        "\n",
        "X_00"
      ],
      "execution_count": 35,
      "outputs": [
        {
          "output_type": "execute_result",
          "data": {
            "text/plain": [
              "array([[0.32343099]])"
            ]
          },
          "metadata": {},
          "execution_count": 35
        }
      ]
    },
    {
      "cell_type": "markdown",
      "metadata": {
        "id": "yiQNrRST16Hs"
      },
      "source": [
        "The lower block diagonal of the canonical coset $C^{(3)}_{1:4,1:4}$ is reproduced as"
      ]
    },
    {
      "cell_type": "code",
      "metadata": {
        "id": "TJN_WBxYtuhj"
      },
      "source": [
        "X_11 = linalg.sqrtm( np.eye(3) - X_01.conj().T@X_01 )"
      ],
      "execution_count": 38,
      "outputs": []
    },
    {
      "cell_type": "code",
      "metadata": {
        "colab": {
          "base_uri": "https://localhost:8080/",
          "height": 138
        },
        "id": "_4QiFVw92JvE",
        "outputId": "0977f380-9930-4dd1-cdd8-03a21da32c08"
      },
      "source": [
        "pd.DataFrame(X_11)"
      ],
      "execution_count": 39,
      "outputs": [
        {
          "output_type": "execute_result",
          "data": {
            "text/html": [
              "<div>\n",
              "<style scoped>\n",
              "    .dataframe tbody tr th:only-of-type {\n",
              "        vertical-align: middle;\n",
              "    }\n",
              "\n",
              "    .dataframe tbody tr th {\n",
              "        vertical-align: top;\n",
              "    }\n",
              "\n",
              "    .dataframe thead th {\n",
              "        text-align: right;\n",
              "    }\n",
              "</style>\n",
              "<table border=\"1\" class=\"dataframe\">\n",
              "  <thead>\n",
              "    <tr style=\"text-align: right;\">\n",
              "      <th></th>\n",
              "      <th>0</th>\n",
              "      <th>1</th>\n",
              "      <th>2</th>\n",
              "    </tr>\n",
              "  </thead>\n",
              "  <tbody>\n",
              "    <tr>\n",
              "      <th>0</th>\n",
              "      <td>0.676896-0.000000j</td>\n",
              "      <td>-0.228711-0.065823j</td>\n",
              "      <td>0.239333+0.016869j</td>\n",
              "    </tr>\n",
              "    <tr>\n",
              "      <th>1</th>\n",
              "      <td>-0.228711+0.065823j</td>\n",
              "      <td>0.824697+0.000000j</td>\n",
              "      <td>0.172850-0.036816j</td>\n",
              "    </tr>\n",
              "    <tr>\n",
              "      <th>2</th>\n",
              "      <td>0.239333-0.016869j</td>\n",
              "      <td>0.172850+0.036816j</td>\n",
              "      <td>0.821838+0.000000j</td>\n",
              "    </tr>\n",
              "  </tbody>\n",
              "</table>\n",
              "</div>"
            ],
            "text/plain": [
              "                    0                   1                   2\n",
              "0  0.676896-0.000000j -0.228711-0.065823j  0.239333+0.016869j\n",
              "1 -0.228711+0.065823j  0.824697+0.000000j  0.172850-0.036816j\n",
              "2  0.239333-0.016869j  0.172850+0.036816j  0.821838+0.000000j"
            ]
          },
          "metadata": {},
          "execution_count": 39
        }
      ]
    },
    {
      "cell_type": "markdown",
      "metadata": {
        "id": "HjTvj_9V2Uoe"
      },
      "source": [
        "Therefore, all the independent components are absorbed by the complex vector $\\vec{X}_{01}$.\n",
        "\n",
        "Moreover the canonical coset is unitary as long as $|X_{01}X_{01}^{\\dagger}| \\le 0$.\n",
        "\n",
        "In fact each proper canonical coset is a topological ball. For this particular case, the ball is inscribed in a\n",
        "6D space."
      ]
    },
    {
      "cell_type": "markdown",
      "metadata": {
        "id": "PNvSttaF2eQw"
      },
      "source": [
        "In summary, the canonical coset $C^{(0)}$ can be reconstructed as "
      ]
    },
    {
      "cell_type": "code",
      "metadata": {
        "colab": {
          "base_uri": "https://localhost:8080/",
          "height": 168
        },
        "id": "w0fRm-X72J1n",
        "outputId": "41a23f1c-21d5-4ee0-99b7-5f6b87c0da0b"
      },
      "source": [
        "pd.DataFrame( \n",
        "    np.block( [[X_00 ,        X_01],\n",
        "           [-X_10.conj(), X_11]] )\n",
        ")"
      ],
      "execution_count": 40,
      "outputs": [
        {
          "output_type": "execute_result",
          "data": {
            "text/html": [
              "<div>\n",
              "<style scoped>\n",
              "    .dataframe tbody tr th:only-of-type {\n",
              "        vertical-align: middle;\n",
              "    }\n",
              "\n",
              "    .dataframe tbody tr th {\n",
              "        vertical-align: top;\n",
              "    }\n",
              "\n",
              "    .dataframe thead th {\n",
              "        text-align: right;\n",
              "    }\n",
              "</style>\n",
              "<table border=\"1\" class=\"dataframe\">\n",
              "  <thead>\n",
              "    <tr style=\"text-align: right;\">\n",
              "      <th></th>\n",
              "      <th>0</th>\n",
              "      <th>1</th>\n",
              "      <th>2</th>\n",
              "      <th>3</th>\n",
              "    </tr>\n",
              "  </thead>\n",
              "  <tbody>\n",
              "    <tr>\n",
              "      <th>0</th>\n",
              "      <td>0.323431+0.000000j</td>\n",
              "      <td>0.363172-0.543793j</td>\n",
              "      <td>0.367856-0.310941j</td>\n",
              "      <td>-0.297404+0.383844j</td>\n",
              "    </tr>\n",
              "    <tr>\n",
              "      <th>1</th>\n",
              "      <td>-0.363172-0.543793j</td>\n",
              "      <td>0.676896-0.000000j</td>\n",
              "      <td>-0.228711-0.065823j</td>\n",
              "      <td>0.239333+0.016869j</td>\n",
              "    </tr>\n",
              "    <tr>\n",
              "      <th>2</th>\n",
              "      <td>-0.367856-0.310941j</td>\n",
              "      <td>-0.228711+0.065823j</td>\n",
              "      <td>0.824697+0.000000j</td>\n",
              "      <td>0.172850-0.036816j</td>\n",
              "    </tr>\n",
              "    <tr>\n",
              "      <th>3</th>\n",
              "      <td>0.297404+0.383844j</td>\n",
              "      <td>0.239333-0.016869j</td>\n",
              "      <td>0.172850+0.036816j</td>\n",
              "      <td>0.821838+0.000000j</td>\n",
              "    </tr>\n",
              "  </tbody>\n",
              "</table>\n",
              "</div>"
            ],
            "text/plain": [
              "                    0  ...                   3\n",
              "0  0.323431+0.000000j  ... -0.297404+0.383844j\n",
              "1 -0.363172-0.543793j  ...  0.239333+0.016869j\n",
              "2 -0.367856-0.310941j  ...  0.172850-0.036816j\n",
              "3  0.297404+0.383844j  ...  0.821838+0.000000j\n",
              "\n",
              "[4 rows x 4 columns]"
            ]
          },
          "metadata": {},
          "execution_count": 40
        }
      ]
    },
    {
      "cell_type": "markdown",
      "metadata": {
        "id": "rgii1qVh2xY1"
      },
      "source": [
        "which can be definitely confirmed as"
      ]
    },
    {
      "cell_type": "code",
      "metadata": {
        "colab": {
          "base_uri": "https://localhost:8080/"
        },
        "id": "-3jTfzgN2wsh",
        "outputId": "d670dda8-753e-442f-bbff-51afbea57a6e"
      },
      "source": [
        "np.round(\n",
        "    CC_factors[0] - np.block( [[X_00, X_01], [-X_01.T.conj(), X_11]] )\n",
        "        ,decimals=12)"
      ],
      "execution_count": 41,
      "outputs": [
        {
          "output_type": "execute_result",
          "data": {
            "text/plain": [
              "array([[ 0.+0.j,  0.+0.j,  0.+0.j,  0.+0.j],\n",
              "       [ 0.+0.j,  0.+0.j,  0.+0.j, -0.-0.j],\n",
              "       [ 0.+0.j, -0.+0.j,  0.+0.j,  0.-0.j],\n",
              "       [ 0.+0.j,  0.+0.j,  0.+0.j,  0.+0.j]])"
            ]
          },
          "metadata": {},
          "execution_count": 41
        }
      ]
    },
    {
      "cell_type": "markdown",
      "metadata": {
        "id": "c3oCiNdP28Y8"
      },
      "source": [
        "In summary, the leftmost canonical coset is the following block matrix:\n",
        "\n",
        "$ Coset(X) =  \\begin{pmatrix} \n",
        "    \\sqrt{1 - X X^{\\dagger}} & X \\\\\n",
        "     -X^{\\dagger}  & \\sqrt{ \\mathbf{1} - X^{\\dagger} X  }\n",
        "   \\end{pmatrix}$"
      ]
    },
    {
      "cell_type": "markdown",
      "metadata": {
        "id": "wvTjqTfE3CJr"
      },
      "source": [
        "where $ X X^{\\dagger} \\le 1 $."
      ]
    },
    {
      "cell_type": "markdown",
      "metadata": {
        "id": "wc93Anb-3F_F"
      },
      "source": [
        "The implementation of this canonical coset matrix is"
      ]
    },
    {
      "cell_type": "code",
      "metadata": {
        "id": "84LENQjr3UXK"
      },
      "source": [
        "\n",
        "def CanonicalCosetBase(X_01):\n",
        "    \"\"\"\n",
        "    Constructs a canonical coset matrix from the row vector X_01\n",
        "    \"\"\"\n",
        "    m = len(X_01) \n",
        "    X_01 = np.array([X_01])\n",
        "    X_00 = np.sqrt( 1-np.real(X_01@X_01.conj().T)  )\n",
        "    X_11 = linalg.sqrtm( np.eye(m) - X_01.conj().T@X_01 )\n",
        "    \n",
        "    return np.block( [ [ X_00          , X_01],\n",
        "                       [-X_01.T.conj() , X_11]] ) \n",
        "\n",
        "def CanonicalCoset(X,n):\n",
        "    \"\"\"\n",
        "    Constructs a canonical coset matrix from the row vector X_01 embedded in a matrix space nxn\n",
        "    \"\"\"\n",
        "    m = len(X)\n",
        "    \n",
        "    if m==n-1:\n",
        "        return CanonicalCosetBase(X)\n",
        "    \n",
        "    identity = np.eye(n-m-1)\n",
        "    \n",
        "    zero = [0]*(len(X)+1)\n",
        "    zero = np.array([ zero for _ in range(len(identity))])    \n",
        "    \n",
        "    #return CanonicalCosetBase(X) \n",
        "    \n",
        "    return np.block([ [identity,zero],\n",
        "                      [zero.T, CanonicalCosetBase(X) ] ])"
      ],
      "execution_count": 43,
      "outputs": []
    },
    {
      "cell_type": "markdown",
      "metadata": {
        "id": "nODfvq8F3STW"
      },
      "source": [
        ""
      ]
    },
    {
      "cell_type": "code",
      "metadata": {
        "colab": {
          "base_uri": "https://localhost:8080/"
        },
        "id": "9o4e3ASl2J7Q",
        "outputId": "cfb5fa63-da94-493d-815d-fbf26900ae96"
      },
      "source": [
        "CanonicalCoset( X_01[0], 4 ) "
      ],
      "execution_count": 44,
      "outputs": [
        {
          "output_type": "execute_result",
          "data": {
            "text/plain": [
              "array([[ 0.32343099+0.00000000e+00j,  0.36317242-5.43793270e-01j,\n",
              "         0.36785557-3.10940952e-01j, -0.2974039 +3.83843704e-01j],\n",
              "       [-0.36317242-5.43793270e-01j,  0.67689639-3.70276390e-18j,\n",
              "        -0.22871052-6.58230064e-02j,  0.23933285+1.68688744e-02j],\n",
              "       [-0.36785557-3.10940952e-01j, -0.22871052+6.58230064e-02j,\n",
              "         0.82469657+0.00000000e+00j,  0.17284952-3.68164224e-02j],\n",
              "       [ 0.2974039 +3.83843704e-01j,  0.23933285-1.68688744e-02j,\n",
              "         0.17284952+3.68164224e-02j,  0.82183803+0.00000000e+00j]])"
            ]
          },
          "metadata": {},
          "execution_count": 44
        }
      ]
    },
    {
      "cell_type": "markdown",
      "metadata": {
        "id": "Bhs6QoNO3iA6"
      },
      "source": [
        "which provides with the correct values"
      ]
    },
    {
      "cell_type": "code",
      "metadata": {
        "colab": {
          "base_uri": "https://localhost:8080/"
        },
        "id": "cOEXigIV3nY8",
        "outputId": "0c00ad02-1f98-483a-848a-18e2f7766e62"
      },
      "source": [
        "np.round( CanonicalCoset( X_01[0], 4 ) - CC_factors[0] )"
      ],
      "execution_count": 45,
      "outputs": [
        {
          "output_type": "execute_result",
          "data": {
            "text/plain": [
              "array([[ 0.+0.j,  0.+0.j,  0.+0.j,  0.+0.j],\n",
              "       [ 0.+0.j, -0.-0.j, -0.-0.j,  0.+0.j],\n",
              "       [ 0.+0.j,  0.-0.j,  0.+0.j, -0.+0.j],\n",
              "       [ 0.+0.j,  0.-0.j, -0.-0.j, -0.+0.j]])"
            ]
          },
          "metadata": {},
          "execution_count": 45
        }
      ]
    },
    {
      "cell_type": "markdown",
      "metadata": {
        "id": "wzO32M5u3m6g"
      },
      "source": [
        "**Taking the Factor 2 (index 1 in list)**"
      ]
    },
    {
      "cell_type": "markdown",
      "metadata": {
        "id": "LdXhTQwo4dk-"
      },
      "source": [
        "The second canonical coset $C^{(2)}$ is a lower block diagonal of size $3\\times 3$\n"
      ]
    },
    {
      "cell_type": "code",
      "metadata": {
        "colab": {
          "base_uri": "https://localhost:8080/",
          "height": 168
        },
        "id": "zAJqf7CH4jGN",
        "outputId": "07bab411-a6e0-41d5-be93-d412ca292408"
      },
      "source": [
        "pd.DataFrame( np.round(CC_factors[1],decimals=5) )"
      ],
      "execution_count": 48,
      "outputs": [
        {
          "output_type": "execute_result",
          "data": {
            "text/html": [
              "<div>\n",
              "<style scoped>\n",
              "    .dataframe tbody tr th:only-of-type {\n",
              "        vertical-align: middle;\n",
              "    }\n",
              "\n",
              "    .dataframe tbody tr th {\n",
              "        vertical-align: top;\n",
              "    }\n",
              "\n",
              "    .dataframe thead th {\n",
              "        text-align: right;\n",
              "    }\n",
              "</style>\n",
              "<table border=\"1\" class=\"dataframe\">\n",
              "  <thead>\n",
              "    <tr style=\"text-align: right;\">\n",
              "      <th></th>\n",
              "      <th>0</th>\n",
              "      <th>1</th>\n",
              "      <th>2</th>\n",
              "      <th>3</th>\n",
              "    </tr>\n",
              "  </thead>\n",
              "  <tbody>\n",
              "    <tr>\n",
              "      <th>0</th>\n",
              "      <td>1.000000+0.000000j</td>\n",
              "      <td>-0.000000+0.000000j</td>\n",
              "      <td>0.000000+0.000000j</td>\n",
              "      <td>0.000000+0.000000j</td>\n",
              "    </tr>\n",
              "    <tr>\n",
              "      <th>1</th>\n",
              "      <td>0.000000+0.000000j</td>\n",
              "      <td>0.691360+0.000000j</td>\n",
              "      <td>-0.022100-0.166730j</td>\n",
              "      <td>-0.366220-0.599680j</td>\n",
              "    </tr>\n",
              "    <tr>\n",
              "      <th>2</th>\n",
              "      <td>0.000000-0.000000j</td>\n",
              "      <td>0.022100-0.166730j</td>\n",
              "      <td>0.983270+0.000000j</td>\n",
              "      <td>-0.063900+0.028260j</td>\n",
              "    </tr>\n",
              "    <tr>\n",
              "      <th>3</th>\n",
              "      <td>0.000000-0.000000j</td>\n",
              "      <td>0.366220-0.599680j</td>\n",
              "      <td>-0.063900-0.028260j</td>\n",
              "      <td>0.708090+0.000000j</td>\n",
              "    </tr>\n",
              "  </tbody>\n",
              "</table>\n",
              "</div>"
            ],
            "text/plain": [
              "                    0  ...                   3\n",
              "0  1.000000+0.000000j  ...  0.000000+0.000000j\n",
              "1  0.000000+0.000000j  ... -0.366220-0.599680j\n",
              "2  0.000000-0.000000j  ... -0.063900+0.028260j\n",
              "3  0.000000-0.000000j  ...  0.708090+0.000000j\n",
              "\n",
              "[4 rows x 4 columns]"
            ]
          },
          "metadata": {},
          "execution_count": 48
        }
      ]
    },
    {
      "cell_type": "code",
      "metadata": {
        "colab": {
          "base_uri": "https://localhost:8080/",
          "height": 269
        },
        "id": "CW4zR8dm2KBC",
        "outputId": "ff27d425-7676-437b-e7c6-52d501d29504"
      },
      "source": [
        "plt.imshow( np.abs(CC_factors[1]) ,cmap='Greys')\n",
        "plt.colorbar()\n",
        "plt.yticks( range(4) );"
      ],
      "execution_count": 49,
      "outputs": [
        {
          "output_type": "display_data",
          "data": {
            "image/png": "[encoded data removed]",
            "text/plain": [
              "<Figure size 432x288 with 2 Axes>"
            ]
          },
          "metadata": {
            "needs_background": "light"
          }
        }
      ]
    },
    {
      "cell_type": "markdown",
      "metadata": {
        "id": "jyR-9AJY4y3g"
      },
      "source": [
        "**Taking the Factor 1 (index *0* in list)**"
      ]
    },
    {
      "cell_type": "markdown",
      "metadata": {
        "id": "o1K0rDqT46EV"
      },
      "source": [
        "The first canonical coset $C^{(1)}$ is a lower block diagonal of size $2 \\times 2$"
      ]
    },
    {
      "cell_type": "code",
      "metadata": {
        "colab": {
          "base_uri": "https://localhost:8080/",
          "height": 168
        },
        "id": "itYOFd2c5E2s",
        "outputId": "bffd52b6-3705-4c43-90d9-7742c08f9fa0"
      },
      "source": [
        "pd.DataFrame( np.round(CC_factors[2],decimals=5) )"
      ],
      "execution_count": 51,
      "outputs": [
        {
          "output_type": "execute_result",
          "data": {
            "text/html": [
              "<div>\n",
              "<style scoped>\n",
              "    .dataframe tbody tr th:only-of-type {\n",
              "        vertical-align: middle;\n",
              "    }\n",
              "\n",
              "    .dataframe tbody tr th {\n",
              "        vertical-align: top;\n",
              "    }\n",
              "\n",
              "    .dataframe thead th {\n",
              "        text-align: right;\n",
              "    }\n",
              "</style>\n",
              "<table border=\"1\" class=\"dataframe\">\n",
              "  <thead>\n",
              "    <tr style=\"text-align: right;\">\n",
              "      <th></th>\n",
              "      <th>0</th>\n",
              "      <th>1</th>\n",
              "      <th>2</th>\n",
              "      <th>3</th>\n",
              "    </tr>\n",
              "  </thead>\n",
              "  <tbody>\n",
              "    <tr>\n",
              "      <th>0</th>\n",
              "      <td>1.000000+0.000000j</td>\n",
              "      <td>0.000000-0.000000j</td>\n",
              "      <td>-0.000000+0.000000j</td>\n",
              "      <td>-0.000000-0.000000j</td>\n",
              "    </tr>\n",
              "    <tr>\n",
              "      <th>1</th>\n",
              "      <td>0.000000+0.000000j</td>\n",
              "      <td>1.000000+0.000000j</td>\n",
              "      <td>0.000000+0.000000j</td>\n",
              "      <td>-0.000000+0.000000j</td>\n",
              "    </tr>\n",
              "    <tr>\n",
              "      <th>2</th>\n",
              "      <td>0.000000+0.000000j</td>\n",
              "      <td>-0.000000+0.000000j</td>\n",
              "      <td>0.550820+0.000000j</td>\n",
              "      <td>0.322740+0.769700j</td>\n",
              "    </tr>\n",
              "    <tr>\n",
              "      <th>3</th>\n",
              "      <td>-0.000000+0.000000j</td>\n",
              "      <td>-0.000000-0.000000j</td>\n",
              "      <td>-0.322740+0.769700j</td>\n",
              "      <td>0.550820+0.000000j</td>\n",
              "    </tr>\n",
              "  </tbody>\n",
              "</table>\n",
              "</div>"
            ],
            "text/plain": [
              "                    0  ...                   3\n",
              "0  1.000000+0.000000j  ... -0.000000-0.000000j\n",
              "1  0.000000+0.000000j  ... -0.000000+0.000000j\n",
              "2  0.000000+0.000000j  ...  0.322740+0.769700j\n",
              "3 -0.000000+0.000000j  ...  0.550820+0.000000j\n",
              "\n",
              "[4 rows x 4 columns]"
            ]
          },
          "metadata": {},
          "execution_count": 51
        }
      ]
    },
    {
      "cell_type": "code",
      "metadata": {
        "colab": {
          "base_uri": "https://localhost:8080/",
          "height": 360
        },
        "id": "t62gcyN-447w",
        "outputId": "4630547f-1bcf-45a4-ba7c-e83362fd9280"
      },
      "source": [
        "plt.imshow( np.abs(CC_factors[2]) , cmap='Greys')\n",
        "plt.colorbar()\n",
        "plt.yticks( range(4) )"
      ],
      "execution_count": 50,
      "outputs": [
        {
          "output_type": "execute_result",
          "data": {
            "text/plain": [
              "([<matplotlib.axis.YTick at 0x7f9fd14454d0>,\n",
              "  <matplotlib.axis.YTick at 0x7f9fd1434190>,\n",
              "  <matplotlib.axis.YTick at 0x7f9fd06e0090>,\n",
              "  <matplotlib.axis.YTick at 0x7f9fd06cd8d0>],\n",
              " <a list of 4 Text major ticklabel objects>)"
            ]
          },
          "metadata": {},
          "execution_count": 50
        },
        {
          "output_type": "display_data",
          "data": {
            "image/png": "[encoded data removed]",
            "text/plain": [
              "<Figure size 432x288 with 2 Axes>"
            ]
          },
          "metadata": {
            "needs_background": "light"
          }
        }
      ]
    },
    {
      "cell_type": "markdown",
      "metadata": {
        "id": "Yqu84QoQ5RCB"
      },
      "source": [
        "**Taking the Factor 0: Diagonal Phases (index 3 in list)**\n",
        "\n",
        "\n"
      ]
    },
    {
      "cell_type": "markdown",
      "metadata": {
        "id": "Ba16KXtq5fEG"
      },
      "source": [
        "The last factor is not a coset but a diagonal unitary matrix that serves as a baseline subgroup. This last factor\n",
        "is a n-dimensional torus."
      ]
    },
    {
      "cell_type": "code",
      "metadata": {
        "colab": {
          "base_uri": "https://localhost:8080/",
          "height": 168
        },
        "id": "MRVib9ks5nm_",
        "outputId": "f39e506d-56f0-4600-f594-5d7ce83ddf78"
      },
      "source": [
        "pd.DataFrame( np.round(CC_factors[3],decimals=5) )"
      ],
      "execution_count": 53,
      "outputs": [
        {
          "output_type": "execute_result",
          "data": {
            "text/html": [
              "<div>\n",
              "<style scoped>\n",
              "    .dataframe tbody tr th:only-of-type {\n",
              "        vertical-align: middle;\n",
              "    }\n",
              "\n",
              "    .dataframe tbody tr th {\n",
              "        vertical-align: top;\n",
              "    }\n",
              "\n",
              "    .dataframe thead th {\n",
              "        text-align: right;\n",
              "    }\n",
              "</style>\n",
              "<table border=\"1\" class=\"dataframe\">\n",
              "  <thead>\n",
              "    <tr style=\"text-align: right;\">\n",
              "      <th></th>\n",
              "      <th>0</th>\n",
              "      <th>1</th>\n",
              "      <th>2</th>\n",
              "      <th>3</th>\n",
              "    </tr>\n",
              "  </thead>\n",
              "  <tbody>\n",
              "    <tr>\n",
              "      <th>0</th>\n",
              "      <td>-0.910580-0.413330j</td>\n",
              "      <td>0.000000-0.000000j</td>\n",
              "      <td>-0.000000-0.000000j</td>\n",
              "      <td>-0.000000+0.000000j</td>\n",
              "    </tr>\n",
              "    <tr>\n",
              "      <th>1</th>\n",
              "      <td>-0.000000-0.000000j</td>\n",
              "      <td>0.918250+0.396000j</td>\n",
              "      <td>-0.000000+0.000000j</td>\n",
              "      <td>0.000000-0.000000j</td>\n",
              "    </tr>\n",
              "    <tr>\n",
              "      <th>2</th>\n",
              "      <td>-0.000000-0.000000j</td>\n",
              "      <td>-0.000000+0.000000j</td>\n",
              "      <td>-0.225440+0.974260j</td>\n",
              "      <td>-0.000000+0.000000j</td>\n",
              "    </tr>\n",
              "    <tr>\n",
              "      <th>3</th>\n",
              "      <td>0.000000-0.000000j</td>\n",
              "      <td>0.000000-0.000000j</td>\n",
              "      <td>-0.000000-0.000000j</td>\n",
              "      <td>0.293410+0.955990j</td>\n",
              "    </tr>\n",
              "  </tbody>\n",
              "</table>\n",
              "</div>"
            ],
            "text/plain": [
              "                    0  ...                   3\n",
              "0 -0.910580-0.413330j  ... -0.000000+0.000000j\n",
              "1 -0.000000-0.000000j  ...  0.000000-0.000000j\n",
              "2 -0.000000-0.000000j  ... -0.000000+0.000000j\n",
              "3  0.000000-0.000000j  ...  0.293410+0.955990j\n",
              "\n",
              "[4 rows x 4 columns]"
            ]
          },
          "metadata": {},
          "execution_count": 53
        }
      ]
    },
    {
      "cell_type": "code",
      "metadata": {
        "colab": {
          "base_uri": "https://localhost:8080/",
          "height": 360
        },
        "id": "JLsNRnWo2KHT",
        "outputId": "38467579-ba52-43b1-cbb4-60721d88a786"
      },
      "source": [
        "plt.imshow( np.abs(CC_factors[3]) ,cmap='Greys')\n",
        "plt.colorbar()\n",
        "plt.yticks( range(4) )"
      ],
      "execution_count": 52,
      "outputs": [
        {
          "output_type": "execute_result",
          "data": {
            "text/plain": [
              "([<matplotlib.axis.YTick at 0x7f9fd0c85a10>,\n",
              "  <matplotlib.axis.YTick at 0x7f9fd06ce190>,\n",
              "  <matplotlib.axis.YTick at 0x7f9fd0735590>,\n",
              "  <matplotlib.axis.YTick at 0x7f9fd066a710>],\n",
              " <a list of 4 Text major ticklabel objects>)"
            ]
          },
          "metadata": {},
          "execution_count": 52
        },
        {
          "output_type": "display_data",
          "data": {
            "image/png": "[encoded data removed]",
            "text/plain": [
              "<Figure size 432x288 with 2 Axes>"
            ]
          },
          "metadata": {
            "needs_background": "light"
          }
        }
      ]
    },
    {
      "cell_type": "markdown",
      "metadata": {
        "id": "7pWAgHUQ5vPr"
      },
      "source": [
        "Each element of this diagonal unitary matrix has magnitude 1"
      ]
    },
    {
      "cell_type": "code",
      "metadata": {
        "colab": {
          "base_uri": "https://localhost:8080/"
        },
        "id": "cThVHgwX2KNC",
        "outputId": "82317abc-3795-473c-c603-ddb4a9b0aeb6"
      },
      "source": [
        "np.round( np.abs(CC_factors[3]) ,decimals=12)"
      ],
      "execution_count": 54,
      "outputs": [
        {
          "output_type": "execute_result",
          "data": {
            "text/plain": [
              "array([[1., 0., 0., 0.],\n",
              "       [0., 1., 0., 0.],\n",
              "       [0., 0., 1., 0.],\n",
              "       [0., 0., 0., 1.]])"
            ]
          },
          "metadata": {},
          "execution_count": 54
        }
      ]
    },
    {
      "cell_type": "markdown",
      "metadata": {
        "id": "vSDQKv0h54V_"
      },
      "source": [
        "Therefore the independent parameters of the unitary matrix are the phases only."
      ]
    },
    {
      "cell_type": "markdown",
      "metadata": {
        "id": "vaFeitWw56Ux"
      },
      "source": [
        "\n",
        "The following function collects the values of the independent values of all the cosets and the phases"
      ]
    },
    {
      "cell_type": "code",
      "metadata": {
        "id": "UeJn0jQL6KBG"
      },
      "source": [
        "# The trick is to extract the independent parameters from each Householder matrix\n",
        "\n",
        "def CanonicalCosetPosition(C,i):\n",
        "    n = C.shape[0]\n",
        "    if i < n-1:\n",
        "        return C[i,i+1:]\n",
        "    elif i == n-1:\n",
        "        return np.diag(C)\n",
        "\n",
        "\n",
        "def CanonicalCosetLeftDecompositionParametersComplex(W):\n",
        "\n",
        "    factors = CanonicalCosetLeftDecomposition(W)\n",
        "    \n",
        "    positions = [ CanonicalCosetPosition(f,i) for i,f in enumerate(factors) ]\n",
        "    \n",
        "    return positions\n",
        "\n",
        "def CanonicalCosetLeftDecompositionParametersReal(W):\n",
        "    \n",
        "    def CanonicalCosetPosition(C,i):\n",
        "        n = C.shape[0]\n",
        "        if i<n-1:\n",
        "            return C[i,i+1:]\n",
        "        elif i == n-1:\n",
        "            return np.diag(C)\n",
        "    \n",
        "    n = W.shape[0]\n",
        "    \n",
        "    factors = CanonicalCosetLeftDecomposition(W)\n",
        "    \n",
        "    positions = np.concatenate(\n",
        "        [ CanonicalCosetPosition(f,i) for i,f in enumerate(factors) if i<n-1 ])\n",
        "    \n",
        "    # positions = np.concatenate([ np.real(positions) , np.imag(positions) ])\n",
        "    # phases = np.real(np.angle( np.diag(factors[n-1]) ))\n",
        "\n",
        "    positions = np.array([ (np.real(x),np.imag(x)) for x in positions  ]).flatten()\n",
        "    phases = np.real(np.angle( np.diag(factors[n-1]) ))\n",
        "    \n",
        "    \n",
        "    return  np.concatenate( [positions,phases] )"
      ],
      "execution_count": 59,
      "outputs": []
    },
    {
      "cell_type": "code",
      "metadata": {
        "colab": {
          "base_uri": "https://localhost:8080/"
        },
        "id": "l_9Y1Uhq2KTb",
        "outputId": "3ab3157c-a986-4cd8-de41-bc74e10fd1de"
      },
      "source": [
        "# Real numbers case\n",
        "\n",
        "CanonicalCosetLeftDecompositionParametersReal(W)"
      ],
      "execution_count": 56,
      "outputs": [
        {
          "output_type": "execute_result",
          "data": {
            "text/plain": [
              "array([ 0.36317242, -0.54379327,  0.36785557, -0.31094095, -0.2974039 ,\n",
              "        0.3838437 , -0.02210319, -0.16673251, -0.36621919, -0.59967747,\n",
              "        0.32274267,  0.7696977 , -2.71548356,  0.407158  ,  1.79818733,\n",
              "        1.27300186])"
            ]
          },
          "metadata": {},
          "execution_count": 56
        }
      ]
    },
    {
      "cell_type": "code",
      "metadata": {
        "colab": {
          "base_uri": "https://localhost:8080/"
        },
        "id": "zUTOpgjU2KZR",
        "outputId": "c380f519-5934-488b-8def-6aeb790de5d5"
      },
      "source": [
        "# Complex numbers case\n",
        "\n",
        "CanonicalCosetLeftDecompositionParametersComplex(W)"
      ],
      "execution_count": 60,
      "outputs": [
        {
          "output_type": "execute_result",
          "data": {
            "text/plain": [
              "[array([ 0.36317242-0.54379327j,  0.36785557-0.31094095j,\n",
              "        -0.2974039 +0.3838437j ]),\n",
              " array([-0.02210319-0.16673251j, -0.36621919-0.59967747j]),\n",
              " array([0.32274267+0.7696977j]),\n",
              " array([-0.91058087-0.41333096j,  0.91824997+0.39600126j,\n",
              "        -0.22543646+0.97425787j,  0.29341246+0.95598595j])]"
            ]
          },
          "metadata": {},
          "execution_count": 60
        }
      ]
    },
    {
      "cell_type": "markdown",
      "metadata": {
        "id": "aAeLZKMg6wiY"
      },
      "source": [
        "For example, the initial 4 elements are"
      ]
    },
    {
      "cell_type": "code",
      "metadata": {
        "colab": {
          "base_uri": "https://localhost:8080/"
        },
        "id": "iCV8TYkN2Khf",
        "outputId": "c6791af0-ba7b-470f-9a52-03aa78ce6c06"
      },
      "source": [
        "-X_01"
      ],
      "execution_count": 61,
      "outputs": [
        {
          "output_type": "execute_result",
          "data": {
            "text/plain": [
              "array([[-0.36317242+0.54379327j, -0.36785557+0.31094095j,\n",
              "         0.2974039 -0.3838437j ]])"
            ]
          },
          "metadata": {},
          "execution_count": 61
        }
      ]
    },
    {
      "cell_type": "markdown",
      "metadata": {
        "id": "yKXtJoVj62Lu"
      },
      "source": [
        "Another method to get the parametrization is"
      ]
    },
    {
      "cell_type": "code",
      "metadata": {
        "id": "SKYBQkpX7He_"
      },
      "source": [
        "def CanonicalCosetLeftDecompositionParameters(W):\n",
        "    \n",
        "    def CanonicalCosetPosition(C,i):\n",
        "        n = C.shape[0]\n",
        "        if i<n-1:\n",
        "            return C[i,i+1:]\n",
        "        elif i == n-1:\n",
        "            return np.diag(C)\n",
        "    \n",
        "    n = W.shape[0]\n",
        "    \n",
        "    factors = CanonicalCosetLeftDecomposition(W)\n",
        "    \n",
        "    positions = np.concatenate(\n",
        "        [ CanonicalCosetPosition(f,i) for i,f in enumerate(factors) if i<n-1 ])\n",
        "    \n",
        "    #positions = np.concatenate([ np.real(positions) , np.imag(positions) ])\n",
        "    positions = np.array([ (np.real(x),np.imag(x)) for x in positions  ]).flatten()\n",
        "    \n",
        "    phases = np.real(np.angle( np.diag(factors[n-1]) ))\n",
        "    \n",
        "    return  np.concatenate( [positions,phases] )\n",
        "    \n",
        "def CanonicalCosetLeftDecompositionParametersDict(W):\n",
        "    params = CanonicalCosetLeftDecompositionParameters(W)\n",
        "    \n",
        "    n = len(W)\n",
        "    labels = CanonicalCosetLabels(n)\n",
        "    return dict(zip( labels , params ))\n",
        "\n",
        "def LeftCanonicalCosetDimensions(n):\n",
        "    return [ 2*(m-1) for m in range(n,1,-1) ]\n",
        "\n",
        "def LeftCanonicalCosetPartition(n):\n",
        "    full_range = list(range(n*n))\n",
        "    \n",
        "    subsets = []\n",
        "\n",
        "    for k in LeftCanonicalCosetDimensions(n):\n",
        "        subsets.append( full_range[0:k] )\n",
        "        full_range = full_range[k:]\n",
        "        \n",
        "    subsets.append( list(range(n*n))[-n:] )        \n",
        "\n",
        "    return subsets\n",
        "\n",
        "def CanonicalCosetLabels(n):\n",
        "    #CC_DIMS = [ 2*(m-1) for m in range(n,1,-1) ]\n",
        "    CC_DIMS = LeftCanonicalCosetDimensions(n)\n",
        "    \n",
        "    CCosetLabels = [  ['CCoset_'+str(n-i-1)+'_'+str(j) for j in range(DIM)  ] for i, DIM in  enumerate(CC_DIMS) ]\n",
        "    \n",
        "    PHASES = [ 'CCoset_0_'+str(i) for i in range(n) ]\n",
        "    \n",
        "    LABELS = CCosetLabels + [PHASES]\n",
        "    \n",
        "    return list(itertools.chain(*LABELS)) "
      ],
      "execution_count": 63,
      "outputs": []
    },
    {
      "cell_type": "code",
      "metadata": {
        "colab": {
          "base_uri": "https://localhost:8080/"
        },
        "id": "mZq99e-P6uNJ",
        "outputId": "f0ad264e-5f51-468c-e826-9b684e8d792c"
      },
      "source": [
        "CanonicalCosetLeftDecompositionParametersDict(W)"
      ],
      "execution_count": 66,
      "outputs": [
        {
          "output_type": "execute_result",
          "data": {
            "text/plain": [
              "{'CCoset_0_0': -2.7154835555274133,\n",
              " 'CCoset_0_1': 0.40715799899193467,\n",
              " 'CCoset_0_2': 1.7981873307582097,\n",
              " 'CCoset_0_3': 1.2730018613999838,\n",
              " 'CCoset_1_0': 0.3227426736092458,\n",
              " 'CCoset_1_1': 0.7696976983064675,\n",
              " 'CCoset_2_0': -0.022103189014521116,\n",
              " 'CCoset_2_1': -0.16673250954251093,\n",
              " 'CCoset_2_2': -0.36621919430673855,\n",
              " 'CCoset_2_3': -0.5996774678345932,\n",
              " 'CCoset_3_0': 0.3631724196108625,\n",
              " 'CCoset_3_1': -0.5437932699966099,\n",
              " 'CCoset_3_2': 0.3678555726738901,\n",
              " 'CCoset_3_3': -0.31094095225288193,\n",
              " 'CCoset_3_4': -0.2974038975578652,\n",
              " 'CCoset_3_5': 0.38384370406796164}"
            ]
          },
          "metadata": {},
          "execution_count": 66
        }
      ]
    },
    {
      "cell_type": "markdown",
      "metadata": {
        "id": "yVjLG4hc7gBC"
      },
      "source": [
        "The utility function with the labels is"
      ]
    },
    {
      "cell_type": "code",
      "metadata": {
        "colab": {
          "base_uri": "https://localhost:8080/"
        },
        "id": "Iv3Id_R96uS0",
        "outputId": "73bc2f93-2081-471f-f6c7-67800f098fd3"
      },
      "source": [
        "CanonicalCosetLabels(4)"
      ],
      "execution_count": 67,
      "outputs": [
        {
          "output_type": "execute_result",
          "data": {
            "text/plain": [
              "['CCoset_3_0',\n",
              " 'CCoset_3_1',\n",
              " 'CCoset_3_2',\n",
              " 'CCoset_3_3',\n",
              " 'CCoset_3_4',\n",
              " 'CCoset_3_5',\n",
              " 'CCoset_2_0',\n",
              " 'CCoset_2_1',\n",
              " 'CCoset_2_2',\n",
              " 'CCoset_2_3',\n",
              " 'CCoset_1_0',\n",
              " 'CCoset_1_1',\n",
              " 'CCoset_0_0',\n",
              " 'CCoset_0_1',\n",
              " 'CCoset_0_2',\n",
              " 'CCoset_0_3']"
            ]
          },
          "metadata": {},
          "execution_count": 67
        }
      ]
    },
    {
      "cell_type": "code",
      "metadata": {
        "colab": {
          "base_uri": "https://localhost:8080/"
        },
        "id": "dBM4LaxY6uY-",
        "outputId": "b7c363d4-615a-4950-8a78-2801840d7222"
      },
      "source": [
        "param_list = CanonicalCosetLeftDecompositionParameters(W)\n",
        "param_list"
      ],
      "execution_count": 71,
      "outputs": [
        {
          "output_type": "execute_result",
          "data": {
            "text/plain": [
              "array([ 0.36317242, -0.54379327,  0.36785557, -0.31094095, -0.2974039 ,\n",
              "        0.3838437 , -0.02210319, -0.16673251, -0.36621919, -0.59967747,\n",
              "        0.32274267,  0.7696977 , -2.71548356,  0.407158  ,  1.79818733,\n",
              "        1.27300186])"
            ]
          },
          "metadata": {},
          "execution_count": 71
        }
      ]
    },
    {
      "cell_type": "code",
      "metadata": {
        "colab": {
          "base_uri": "https://localhost:8080/"
        },
        "id": "UjkyJp486uhl",
        "outputId": "cf24f259-f74c-46b4-d360-ef22130e5da0"
      },
      "source": [
        "param_list = CanonicalCosetLeftDecompositionParametersReal(W)\n",
        "param_list"
      ],
      "execution_count": 72,
      "outputs": [
        {
          "output_type": "execute_result",
          "data": {
            "text/plain": [
              "array([ 0.36317242, -0.54379327,  0.36785557, -0.31094095, -0.2974039 ,\n",
              "        0.3838437 , -0.02210319, -0.16673251, -0.36621919, -0.59967747,\n",
              "        0.32274267,  0.7696977 , -2.71548356,  0.407158  ,  1.79818733,\n",
              "        1.27300186])"
            ]
          },
          "metadata": {},
          "execution_count": 72
        }
      ]
    },
    {
      "cell_type": "markdown",
      "metadata": {
        "id": "SGCaDiDI79vI"
      },
      "source": [
        "We can recover all the canonical cosets as"
      ]
    },
    {
      "cell_type": "code",
      "metadata": {
        "id": "8yIVmRpu8HoT"
      },
      "source": [
        "def ComplexifyEvenVector(V):\n",
        "    n = len(V)\n",
        "    if n%2 == 0:\n",
        "        return [ x+1j*y for x,y in V.reshape(n//2,2)]\n",
        "    else:\n",
        "        print('ComplexifyVector::Error, odd vector dimension')\n",
        "        return 0"
      ],
      "execution_count": 74,
      "outputs": []
    },
    {
      "cell_type": "code",
      "metadata": {
        "id": "8LUqDBlN6unf"
      },
      "source": [
        "CC_factor_3 = CanonicalCoset( ComplexifyEvenVector(param_list[0:6]) , 4 )"
      ],
      "execution_count": 75,
      "outputs": []
    },
    {
      "cell_type": "code",
      "metadata": {
        "id": "QRyoYoGe6uuZ"
      },
      "source": [
        "CC_factor_2 = CanonicalCoset( ComplexifyEvenVector(param_list[6:10]) , 4 )"
      ],
      "execution_count": 76,
      "outputs": []
    },
    {
      "cell_type": "code",
      "metadata": {
        "id": "JA-yq2oJ8PnW"
      },
      "source": [
        "CC_factor_1 = CanonicalCoset( ComplexifyEvenVector(param_list[10:12]), 4 )"
      ],
      "execution_count": 77,
      "outputs": []
    },
    {
      "cell_type": "code",
      "metadata": {
        "id": "D47UOhyC8R4y"
      },
      "source": [
        "CC_phases = np.diag(np.exp( 1j*param_list[12:16] ))"
      ],
      "execution_count": 78,
      "outputs": []
    },
    {
      "cell_type": "markdown",
      "metadata": {
        "id": "_xzONW5C8VL3"
      },
      "source": [
        "and multiply them together to obtain the original unitary matrix W"
      ]
    },
    {
      "cell_type": "code",
      "metadata": {
        "colab": {
          "base_uri": "https://localhost:8080/"
        },
        "id": "yuIMVwn48ZK-",
        "outputId": "dd58146e-3f05-4100-995e-5425b958f351"
      },
      "source": [
        "np.round( W - CC_factor_3@CC_factor_2@CC_factor_1@CC_phases )"
      ],
      "execution_count": 79,
      "outputs": [
        {
          "output_type": "execute_result",
          "data": {
            "text/plain": [
              "array([[-0.-0.j, -0.-0.j,  0.+0.j, -0.+0.j],\n",
              "       [ 0.+0.j,  0.+0.j,  0.-0.j,  0.-0.j],\n",
              "       [ 0.+0.j,  0.-0.j, -0.+0.j, -0.+0.j],\n",
              "       [ 0.+0.j,  0.-0.j, -0.-0.j, -0.+0.j]])"
            ]
          },
          "metadata": {},
          "execution_count": 79
        }
      ]
    },
    {
      "cell_type": "markdown",
      "metadata": {
        "id": "mEm5KcDD8dHa"
      },
      "source": [
        "This series of cosets can be used to construct subgroup structures"
      ]
    },
    {
      "cell_type": "markdown",
      "metadata": {
        "id": "SZojcG2t8iza"
      },
      "source": [
        "### 1.4 Random Cosets"
      ]
    },
    {
      "cell_type": "markdown",
      "metadata": {
        "id": "a_sGFI998wUN"
      },
      "source": [
        "Random phases can be used to construct the core diagonal subgroup"
      ]
    },
    {
      "cell_type": "code",
      "metadata": {
        "colab": {
          "base_uri": "https://localhost:8080/"
        },
        "id": "eJJvZzt78vZ8",
        "outputId": "0d6376d1-231e-4ce6-dbdb-c4a0c86b470d"
      },
      "source": [
        "np.diag( np.exp( 2*1j*np.pi*np.random.random_sample(4) ) )"
      ],
      "execution_count": 80,
      "outputs": [
        {
          "output_type": "execute_result",
          "data": {
            "text/plain": [
              "array([[ 0.91411265+0.40546031j,  0.        +0.j        ,\n",
              "         0.        +0.j        ,  0.        +0.j        ],\n",
              "       [ 0.        +0.j        , -0.01610581-0.99987029j,\n",
              "         0.        +0.j        ,  0.        +0.j        ],\n",
              "       [ 0.        +0.j        ,  0.        +0.j        ,\n",
              "         0.29944769+0.95411272j,  0.        +0.j        ],\n",
              "       [ 0.        +0.j        ,  0.        +0.j        ,\n",
              "         0.        +0.j        , -0.08885179-0.99604486j]])"
            ]
          },
          "metadata": {},
          "execution_count": 80
        }
      ]
    },
    {
      "cell_type": "markdown",
      "metadata": {
        "id": "ZwEAs_El85RI"
      },
      "source": [
        "Random points in n-dimensional balls can be generated as"
      ]
    },
    {
      "cell_type": "code",
      "metadata": {
        "id": "iRWOnWpo9ARF"
      },
      "source": [
        "def RandomBall(dimension, num_points,  radius=1):\n",
        "    # https://stackoverflow.com/questions/54544971\n",
        "    #from numpy import random, linalg\n",
        "    # First generate random directions by normalizing the length of a\n",
        "    # vector of random-normal values (these distribute evenly on ball).\n",
        "    random_directions = np.random.normal(size=(dimension,num_points))\n",
        "    random_directions /= linalg.norm(random_directions, axis=0)\n",
        "    # Second generate a random radius with probability proportional to\n",
        "    # the surface area of a ball with a given radius.\n",
        "    random_radii = np.random.random(num_points) ** (1/dimension)\n",
        "    # Return the list of random (direction & length) points.\n",
        "    return radius * (random_directions * random_radii).T"
      ],
      "execution_count": 81,
      "outputs": []
    },
    {
      "cell_type": "code",
      "metadata": {
        "colab": {
          "base_uri": "https://localhost:8080/",
          "height": 265
        },
        "id": "nNZRiYGp8iXN",
        "outputId": "b7e68595-845d-4b4b-9369-ce84ab78e8c7"
      },
      "source": [
        "random_points = RandomBall(2,1000)\n",
        "\n",
        "plt.plot( random_points[:,0], random_points[:,1]  ,'.')\n",
        "\n",
        "plt.gca().set_aspect(1)"
      ],
      "execution_count": 82,
      "outputs": [
        {
          "output_type": "display_data",
          "data": {
            "image/png": "[encoded data removed]",
            "text/plain": [
              "<Figure size 432x288 with 1 Axes>"
            ]
          },
          "metadata": {
            "needs_background": "light"
          }
        }
      ]
    },
    {
      "cell_type": "markdown",
      "metadata": {
        "id": "8fQxHYS79Iye"
      },
      "source": [
        "##### **bold text** Random Canonical Coset  $ C^{(1)} \\approx 2D$"
      ]
    },
    {
      "cell_type": "markdown",
      "metadata": {
        "id": "_lzvvqQA9N61"
      },
      "source": [
        "Random instances of the canonical coset from the generation of random points in a ball 2D"
      ]
    },
    {
      "cell_type": "code",
      "metadata": {
        "id": "t-ADsfJQ9RPj"
      },
      "source": [
        "def FrobeniusDistance2( U1,U2 ):\n",
        "    return np.real( np.trace(U1@U2.conj().T) )"
      ],
      "execution_count": 83,
      "outputs": []
    },
    {
      "cell_type": "code",
      "metadata": {
        "id": "jsP-aQaX8fVT"
      },
      "source": [
        "n_samples = 200\n",
        "random_CCoset_1_list = [ CanonicalCoset( ComplexifyEvenVector( ball_2d ), 4 ) \n",
        "                        for ball_2d in   RandomBall(2,n_samples) ]"
      ],
      "execution_count": 84,
      "outputs": []
    },
    {
      "cell_type": "markdown",
      "metadata": {
        "id": "hEoWDdqz9ZUM"
      },
      "source": [
        "pairwise distances among canonical cosets."
      ]
    },
    {
      "cell_type": "code",
      "metadata": {
        "id": "EqOKV8c38fbE"
      },
      "source": [
        "distance1_list = [ FrobeniusDistance2( random_CCoset_1_list[i], random_CCoset_1_list[j] ) \n",
        " for i,j in   itertools.combinations( range(n_samples) ,2)   ] "
      ],
      "execution_count": 85,
      "outputs": []
    },
    {
      "cell_type": "code",
      "metadata": {
        "colab": {
          "base_uri": "https://localhost:8080/",
          "height": 297
        },
        "id": "rLlnj_L08fia",
        "outputId": "30478e92-7a97-4b59-fbbf-3a3f82f9733f"
      },
      "source": [
        "plt.hist( distance1_list ,bins=20);\n",
        "plt.xlabel('FrobeniusDistance square')"
      ],
      "execution_count": 86,
      "outputs": [
        {
          "output_type": "execute_result",
          "data": {
            "text/plain": [
              "Text(0.5, 0, 'FrobeniusDistance square')"
            ]
          },
          "metadata": {},
          "execution_count": 86
        },
        {
          "output_type": "display_data",
          "data": {
            "image/png": "[encoded data removed]",
            "text/plain": [
              "<Figure size 432x288 with 1 Axes>"
            ]
          },
          "metadata": {
            "needs_background": "light"
          }
        }
      ]
    },
    {
      "cell_type": "markdown",
      "metadata": {
        "id": "bkQrtClN9oD5"
      },
      "source": [
        "##### Random Canonical Coset $ C^{(2)} \\approx 4D$"
      ]
    },
    {
      "cell_type": "code",
      "metadata": {
        "id": "DRtzdh6e8fqo"
      },
      "source": [
        "n_samples = 200\n",
        "\n",
        "random_CCoset_2_list = [ CanonicalCoset( ComplexifyEvenVector( ball_4d ), 4 ) \n",
        "                        for ball_4d in   RandomBall(4,n_samples) ]"
      ],
      "execution_count": 87,
      "outputs": []
    },
    {
      "cell_type": "code",
      "metadata": {
        "id": "tBJdQ2Fm9t5O"
      },
      "source": [
        "distance2_list = [ FrobeniusDistance2( random_CCoset_2_list[i], random_CCoset_2_list[j] )  \n",
        " for i,j in   itertools.combinations( range(n_samples) ,2)   ] "
      ],
      "execution_count": 88,
      "outputs": []
    },
    {
      "cell_type": "code",
      "metadata": {
        "colab": {
          "base_uri": "https://localhost:8080/",
          "height": 279
        },
        "id": "ZD2ODi-R9uA7",
        "outputId": "d7bc718c-51f9-4003-ff3c-a04cff69081d"
      },
      "source": [
        "plt.hist(distance1_list,bins=20, label=' CCoset 1 ', alpha=0.7);\n",
        "plt.hist(distance2_list,bins=20, label=' CCoset 2 ', alpha=0.7);\n",
        "plt.legend()\n",
        "plt.xlabel('FrobeniusDistance square');"
      ],
      "execution_count": 89,
      "outputs": [
        {
          "output_type": "display_data",
          "data": {
            "image/png": "[encoded data removed]",
            "text/plain": [
              "<Figure size 432x288 with 1 Axes>"
            ]
          },
          "metadata": {
            "needs_background": "light"
          }
        }
      ]
    },
    {
      "cell_type": "markdown",
      "metadata": {
        "id": "BGsOfpPo94j-"
      },
      "source": [
        "##### Random Canonical Coset $ C^{(3)} \\approx 6D$"
      ]
    },
    {
      "cell_type": "code",
      "metadata": {
        "id": "DK2Vo-0w9uG_"
      },
      "source": [
        "n_samples = 200\n",
        "\n",
        "random_CCoset_3_list = [ CanonicalCoset( ComplexifyEvenVector( ball_6d ), 4 ) \n",
        "                        for ball_6d in   RandomBall(6,n_samples) ]"
      ],
      "execution_count": 90,
      "outputs": []
    },
    {
      "cell_type": "code",
      "metadata": {
        "id": "kFqOKUrX9uOJ"
      },
      "source": [
        "distance3_list = [ FrobeniusDistance2( random_CCoset_3_list[i], random_CCoset_3_list[j] )  \n",
        " for i,j in   itertools.combinations( range(n_samples) ,2)   ] "
      ],
      "execution_count": 91,
      "outputs": []
    },
    {
      "cell_type": "code",
      "metadata": {
        "colab": {
          "base_uri": "https://localhost:8080/",
          "height": 297
        },
        "id": "pj0f8EAv9uXL",
        "outputId": "ec7f7de4-f529-4b04-eb21-c89eeb8cba74"
      },
      "source": [
        "plt.hist(distance1_list,bins=20, label=' CCoset 1 ', alpha=0.7);\n",
        "plt.hist(distance2_list,bins=20, label=' CCoset 2 ', alpha=0.7);\n",
        "plt.hist(distance3_list,bins=20, label=' CCoset 3 ', alpha=0.7);\n",
        "\n",
        "plt.legend()\n",
        "plt.xlabel('FrobeniusDistance square')"
      ],
      "execution_count": 92,
      "outputs": [
        {
          "output_type": "execute_result",
          "data": {
            "text/plain": [
              "Text(0.5, 0, 'FrobeniusDistance square')"
            ]
          },
          "metadata": {},
          "execution_count": 92
        },
        {
          "output_type": "display_data",
          "data": {
            "image/png": "[encoded data removed]",
            "text/plain": [
              "<Figure size 432x288 with 1 Axes>"
            ]
          },
          "metadata": {
            "needs_background": "light"
          }
        }
      ]
    },
    {
      "cell_type": "markdown",
      "metadata": {
        "id": "ehKjQxVK-PNK"
      },
      "source": [
        "##### Distance among different cosets"
      ]
    },
    {
      "cell_type": "code",
      "metadata": {
        "id": "DrozQl2v9udg"
      },
      "source": [
        "distance_12_list = [ FrobeniusDistance2( random_CCoset_1_list[i], random_CCoset_2_list[j] )  \n",
        " for i,j in   itertools.combinations( range(n_samples) ,2)   ] \n",
        "\n",
        "distance_13_list = [ FrobeniusDistance2( random_CCoset_1_list[i], random_CCoset_3_list[j] )  \n",
        " for i,j in   itertools.combinations( range(n_samples) ,2)   ] "
      ],
      "execution_count": 93,
      "outputs": []
    },
    {
      "cell_type": "code",
      "metadata": {
        "colab": {
          "base_uri": "https://localhost:8080/",
          "height": 297
        },
        "id": "ujRf753e9ujb",
        "outputId": "6cbbe3fb-9468-479b-d53f-d8ef001fb29b"
      },
      "source": [
        "plt.hist( distance_12_list, bins=20, label=' CCoset 1- CCoset 2 ', alpha=0.7);\n",
        "plt.hist( distance_13_list,  bins=20, label=' CCoset 2- CCoset 3 ', alpha=0.7);\n",
        "\n",
        "plt.legend()\n",
        "plt.xlabel('FrobeniusDistance square')"
      ],
      "execution_count": 94,
      "outputs": [
        {
          "output_type": "execute_result",
          "data": {
            "text/plain": [
              "Text(0.5, 0, 'FrobeniusDistance square')"
            ]
          },
          "metadata": {},
          "execution_count": 94
        },
        {
          "output_type": "display_data",
          "data": {
            "image/png": "[encoded data removed]",
            "text/plain": [
              "<Figure size 432x288 with 1 Axes>"
            ]
          },
          "metadata": {
            "needs_background": "light"
          }
        }
      ]
    },
    {
      "cell_type": "markdown",
      "metadata": {
        "id": "0xhtc5oP-bfq"
      },
      "source": [
        "##### Grid"
      ]
    },
    {
      "cell_type": "markdown",
      "metadata": {
        "id": "GM5GJ7xL-eiX"
      },
      "source": [
        "The grid of unitary matrices around the identity is"
      ]
    },
    {
      "cell_type": "code",
      "metadata": {
        "id": "dOH9IkbN-pAl"
      },
      "source": [
        "def flatten_list(L):\n",
        "    return list( itertools.chain.from_iterable( L ) )\n",
        "\n",
        "def GridPhases(matrix_dim, n):\n",
        "    \n",
        "    phi_grid = np.linspace(-np.pi,np.pi,n+1)[0:-1]\n",
        "    phi_grid = range(n)\n",
        "    \n",
        "    mesh = np.meshgrid( *([phi_grid]*matrix_dim) ,sparse=False, indexing='ij' )\n",
        "    mesh = [ axis.flatten() for axis in mesh]\n",
        "\n",
        "    mesh = np.array(mesh).T\n",
        "    \n",
        "    return list(map( lambda x: np.diag(x), np.exp(1j*mesh) ))\n",
        "\n",
        "\n",
        "def Grid_dU_Diagonal(n,epsilon):\n",
        "    axis0 = np.array([epsilon]+[0]*(n-1))\n",
        "    \n",
        "    return [ np.diag( np.exp(1j*epsilon*np.roll(axis0,n)) ) for n in range(n) ]\n",
        "    \n",
        "\n",
        "def Grid_dU_CanonicalCoset( n, m ,epsilon ):\n",
        "    \"\"\"\n",
        "    Left Canonical Coset m, for nxn unitary matrices \n",
        "    \"\"\"\n",
        "    axis0 = np.array([epsilon]+[0]*(m-1))\n",
        "    \n",
        "    axis_list = np.array([ np.roll(axis0,k) for k in range(m) ] )\n",
        "    \n",
        "    pre = [  [ CanonicalCoset( epsilon*X , n ), CanonicalCoset( 1j*epsilon*X , n ) ] for X in axis_list ]\n",
        "    \n",
        "    return flatten_list(pre)\n",
        "\n",
        "\n",
        "def Grid_dU(n, epsilon ):\n",
        "    \n",
        "    CCosets_list = [  Grid_dU_CanonicalCoset( n, m ,epsilon ) for m in  range( n-1, 0, -1 ) ]\n",
        "    \n",
        "    return flatten_list(CCosets_list) + Grid_dU_Diagonal(n,epsilon)"
      ],
      "execution_count": 97,
      "outputs": []
    },
    {
      "cell_type": "code",
      "metadata": {
        "colab": {
          "base_uri": "https://localhost:8080/"
        },
        "id": "nDyTKgar9usk",
        "outputId": "48a79f73-b45d-4aae-e195-e86f81fce0f4"
      },
      "source": [
        "epsilon = 0.001\n",
        "\n",
        "n = 4\n",
        "\n",
        "grid = Grid_dU(n, epsilon)\n",
        "\n",
        "print(len(grid))\n",
        "grid[:5]"
      ],
      "execution_count": 100,
      "outputs": [
        {
          "output_type": "stream",
          "name": "stdout",
          "text": [
            "16\n"
          ]
        },
        {
          "output_type": "execute_result",
          "data": {
            "text/plain": [
              "[array([[ 1.e+00,  1.e-06,  0.e+00,  0.e+00],\n",
              "        [-1.e-06,  1.e+00,  0.e+00,  0.e+00],\n",
              "        [-0.e+00,  0.e+00,  1.e+00,  0.e+00],\n",
              "        [-0.e+00,  0.e+00,  0.e+00,  1.e+00]]),\n",
              " array([[ 1.+0.e+00j,  0.+1.e-06j,  0.+0.e+00j,  0.+0.e+00j],\n",
              "        [-0.+1.e-06j,  1.+0.e+00j,  0.+0.e+00j,  0.+0.e+00j],\n",
              "        [-0.+0.e+00j,  0.+0.e+00j,  1.+0.e+00j,  0.+0.e+00j],\n",
              "        [-0.+0.e+00j,  0.+0.e+00j,  0.+0.e+00j,  1.+0.e+00j]]),\n",
              " array([[ 1.e+00,  0.e+00,  1.e-06,  0.e+00],\n",
              "        [-0.e+00,  1.e+00,  0.e+00,  0.e+00],\n",
              "        [-1.e-06,  0.e+00,  1.e+00,  0.e+00],\n",
              "        [-0.e+00,  0.e+00,  0.e+00,  1.e+00]]),\n",
              " array([[ 1.+0.e+00j,  0.+0.e+00j,  0.+1.e-06j,  0.+0.e+00j],\n",
              "        [-0.+0.e+00j,  1.+0.e+00j,  0.+0.e+00j,  0.+0.e+00j],\n",
              "        [-0.+1.e-06j,  0.+0.e+00j,  1.+0.e+00j,  0.+0.e+00j],\n",
              "        [-0.+0.e+00j,  0.+0.e+00j,  0.+0.e+00j,  1.+0.e+00j]]),\n",
              " array([[ 1.e+00,  0.e+00,  0.e+00,  1.e-06],\n",
              "        [-0.e+00,  1.e+00,  0.e+00,  0.e+00],\n",
              "        [-0.e+00,  0.e+00,  1.e+00,  0.e+00],\n",
              "        [-1.e-06,  0.e+00,  0.e+00,  1.e+00]])]"
            ]
          },
          "metadata": {},
          "execution_count": 100
        }
      ]
    },
    {
      "cell_type": "markdown",
      "metadata": {
        "id": "pPSRwWS2-_ce"
      },
      "source": [
        "The number of unitary matrices is always $n^2$"
      ]
    },
    {
      "cell_type": "code",
      "metadata": {
        "colab": {
          "base_uri": "https://localhost:8080/"
        },
        "id": "x_7nlfHh_Ahc",
        "outputId": "3c00ec03-28b8-4140-cf3b-710ed8a40f18"
      },
      "source": [
        "len( Grid_dU(n,epsilon)  )"
      ],
      "execution_count": 101,
      "outputs": [
        {
          "output_type": "execute_result",
          "data": {
            "text/plain": [
              "16"
            ]
          },
          "metadata": {},
          "execution_count": 101
        }
      ]
    },
    {
      "cell_type": "code",
      "metadata": {
        "colab": {
          "base_uri": "https://localhost:8080/"
        },
        "id": "4wd8DtGm_AqK",
        "outputId": "943061e6-589a-47fb-8ddd-b40a656c8842"
      },
      "source": [
        "Grid_dU(n,epsilon)[0].dot(Grid_dU(n,epsilon)[0].T)"
      ],
      "execution_count": 102,
      "outputs": [
        {
          "output_type": "execute_result",
          "data": {
            "text/plain": [
              "array([[ 1.00000000e+00, -8.32531743e-23,  0.00000000e+00,\n",
              "         0.00000000e+00],\n",
              "       [-8.32531743e-23,  1.00000000e+00,  0.00000000e+00,\n",
              "         0.00000000e+00],\n",
              "       [ 0.00000000e+00,  0.00000000e+00,  1.00000000e+00,\n",
              "         0.00000000e+00],\n",
              "       [ 0.00000000e+00,  0.00000000e+00,  0.00000000e+00,\n",
              "         1.00000000e+00]])"
            ]
          },
          "metadata": {},
          "execution_count": 102
        }
      ]
    },
    {
      "cell_type": "code",
      "metadata": {
        "colab": {
          "base_uri": "https://localhost:8080/"
        },
        "id": "bFG7TSWU_Axd",
        "outputId": "4ddcf349-4282-4d41-f3b0-a1d053889681"
      },
      "source": [
        "len( Grid_dU(5,epsilon)  )"
      ],
      "execution_count": 103,
      "outputs": [
        {
          "output_type": "execute_result",
          "data": {
            "text/plain": [
              "25"
            ]
          },
          "metadata": {},
          "execution_count": 103
        }
      ]
    },
    {
      "cell_type": "markdown",
      "metadata": {
        "id": "ZPZl_71r_Pjj"
      },
      "source": [
        "For example, a matrix  20𝑥20  can accomodate 400 unitary matrices"
      ]
    },
    {
      "cell_type": "code",
      "metadata": {
        "colab": {
          "base_uri": "https://localhost:8080/"
        },
        "id": "F1ogMr0h_TAH",
        "outputId": "257ecee4-6d48-447b-ef13-027ab5e73c87"
      },
      "source": [
        "20**2"
      ],
      "execution_count": 104,
      "outputs": [
        {
          "output_type": "execute_result",
          "data": {
            "text/plain": [
              "400"
            ]
          },
          "metadata": {},
          "execution_count": 104
        }
      ]
    },
    {
      "cell_type": "markdown",
      "metadata": {
        "id": "7i2vLog66te8"
      },
      "source": [
        "## 2. Implementation\n",
        "\n"
      ]
    },
    {
      "cell_type": "markdown",
      "metadata": {
        "id": "b3d9guSe_l1p"
      },
      "source": [
        "We use the functions and the theory above for the problem of text classification with two classes."
      ]
    },
    {
      "cell_type": "code",
      "metadata": {
        "id": "sIDI-lfLoXnc"
      },
      "source": [
        "# Some imports\n",
        "\n",
        "from scipy.linalg import fractional_matrix_power as MatrixPow\n",
        "from scipy.stats import unitary_group\n",
        "import numpy as np\n",
        "from scipy import linalg\n",
        "import itertools\n"
      ],
      "execution_count": null,
      "outputs": []
    },
    {
      "cell_type": "markdown",
      "metadata": {
        "id": "RP97s8epkQ_F"
      },
      "source": [
        "We define the same functions explored above and implement new ones."
      ]
    },
    {
      "cell_type": "code",
      "metadata": {
        "id": "84hik5LWq1nG"
      },
      "source": [
        "## Setup Custom functions"
      ],
      "execution_count": null,
      "outputs": []
    },
    {
      "cell_type": "markdown",
      "metadata": {
        "id": "n0g74qkS_8Rn"
      },
      "source": [
        "This functions is used for calculate some **epsilon** based of word frecuency. This default values where obtained by trial and error."
      ]
    },
    {
      "cell_type": "code",
      "metadata": {
        "id": "nvGel9xNomrL"
      },
      "source": [
        "########################################\n",
        "def calculate_epsilon_simple(count_dict,\n",
        "                            word,\n",
        "                            unk_e: float = 0.000001,\n",
        "                            lf_e: float = 0.0001,\n",
        "                            hf_e: float = 0.001,\n",
        "                            lf_range: int = 0,\n",
        "                            hf_range: int = 1250):\n",
        "    \"\"\"\n",
        "    This functions is used for calculate some epsilon based on word frecuency.\n",
        "\n",
        "    \"\"\"\n",
        "    try:\n",
        "        count = count_dict[word]\n",
        "    except:\n",
        "        return unk_e, \"unk\"\n",
        "    \n",
        "    if lf_range <= count <= hf_range:\n",
        "        return lf_e, \"lf\"\n",
        "    return hf_e, \"hf\"\n"
      ],
      "execution_count": 105,
      "outputs": []
    },
    {
      "cell_type": "markdown",
      "metadata": {
        "id": "Hwb_x-TxAX0b"
      },
      "source": [
        "\n",
        "We create another aux function for assign to each word in our dictinoary a given value of epsilon.\n"
      ]
    },
    {
      "cell_type": "code",
      "metadata": {
        "id": "YIxab5rvoZz5"
      },
      "source": [
        "\n",
        "def create_unique_words_with_epsilon(\n",
        "    vocav_frec,     # Vocab used\n",
        "    unique_words,   # List of unique words\n",
        "    lf_e: float=0.0001,\n",
        "    hf_e: float=0.001,\n",
        "    lf_range: int=0,\n",
        "    hf_range: int=1250):\n",
        "    \"\"\"\n",
        "    Assign to each word in our dict a given epsilon based on word frecuency.\n",
        "    \"\"\"\n",
        "\n",
        "    w_e_pairs_list = []\n",
        "\n",
        "    for w in tqdm(unique_words):\n",
        "\n",
        "        e, kind_word = calculate_epsilon_simple(\n",
        "                vocav_frec,\n",
        "                w,\n",
        "                lf_e = lf_e,\n",
        "                hf_e = hf_e,\n",
        "                lf_range = lf_range,\n",
        "                hf_range = hf_range\n",
        "        )\n",
        "        w_e_pairs_list.append( (w, e, kind_word ) )\n",
        "\n",
        "    return w_e_pairs_list"
      ],
      "execution_count": null,
      "outputs": []
    },
    {
      "cell_type": "code",
      "metadata": {
        "id": "umK4HdJ1qYh8"
      },
      "source": [
        "\n",
        "def RandomUnitaryBaseElement(n,epsilon):\n",
        "    \"\"\"\n",
        "    Input:\n",
        "        n: Matrix size\n",
        "        epsilon: small mumber where zero limits to the identity matrix\n",
        "    \"\"\"\n",
        "    return MatrixPow( unitary_group.rvs(n), epsilon )\n",
        "\n",
        "def QuasiDiagonalBasisElement(n,epsilon, dtheta,i):\n",
        "    \"\"\"\n",
        "\n",
        "    \"\"\"\n",
        "\n",
        "    diag1 = np.roll( np.append(np.ones(n-1), np.exp(1j*dtheta)) ,1)\n",
        "    \n",
        "    return np.diag(np.roll(diag1,i)).dot(RandomUnitaryBaseElement(n,epsilon)) "
      ],
      "execution_count": 106,
      "outputs": []
    },
    {
      "cell_type": "code",
      "metadata": {
        "id": "30dhychbqms9"
      },
      "source": [
        "\n",
        "def flatten_list(L):\n",
        "        return list( itertools.chain.from_iterable( L ) )\n",
        "\n",
        "def Grid_dU_Diagonal(n,epsilon):\n",
        "    axis0 = np.array([epsilon]+[0]*(n-1))\n",
        "    \n",
        "    return [ np.diag( np.exp(1j*epsilon*np.roll(axis0,n)) ) for n in range(n) ]\n",
        "\n",
        "\n",
        "def CanonicalCosetBase(X_01):\n",
        "    \"\"\"\n",
        "    Constructs a canonical coset matrix from the row vector X_01\n",
        "    \"\"\"\n",
        "    m = len(X_01) \n",
        "    X_01 = np.array([X_01])\n",
        "    X_00 = np.sqrt( 1-np.real(X_01@X_01.conj().T)  )\n",
        "    X_11 = linalg.sqrtm( np.eye(m) - X_01.conj().T@X_01 )\n",
        "    \n",
        "    return np.block( [ [ X_00          , X_01],\n",
        "                       [-X_01.T.conj() , X_11]] ) \n",
        "\n",
        "def CanonicalCoset(X,n):\n",
        "    \"\"\"\n",
        "    Constructs a canonical coset matrix from the row vector X_01 embedded in a matrix space nxn\n",
        "    \"\"\"\n",
        "    m = len(X)\n",
        "    \n",
        "    if m==n-1:\n",
        "        return CanonicalCosetBase(X)\n",
        "    \n",
        "    identity = np.eye(n-m-1)\n",
        "    \n",
        "    zero = [0]*(len(X)+1)\n",
        "    zero = np.array([ zero for _ in range(len(identity))])    \n",
        "    \n",
        "    #return CanonicalCosetBase(X) \n",
        "    \n",
        "    return np.block([ [identity,zero],\n",
        "                      [zero.T, CanonicalCosetBase(X) ] ])\n",
        "\n",
        "\n",
        "def Grid_dU_CanonicalCoset( n, m ,epsilon ):\n",
        "    \"\"\"\n",
        "    Left Canonical Coset m, for nxn unitary matrices \n",
        "    \"\"\"\n",
        "    axis0 = np.array([epsilon]+[0]*(m-1))\n",
        "    \n",
        "    axis_list = np.array([ np.roll(axis0,k) for k in range(m) ] )\n",
        "    \n",
        "    pre = [  [ CanonicalCoset( epsilon*X , n ), CanonicalCoset( 1j*epsilon*X , n ) ] for X in axis_list ]\n",
        "    \n",
        "    return flatten_list(pre)\n",
        "\n",
        "\n",
        "def Grid_dU(n, epsilon ):\n",
        "    \n",
        "    CCosets_list = [  Grid_dU_CanonicalCoset( n, m ,epsilon ) for m in  range( n-1, 0, -1 ) ]\n",
        "    \n",
        "    return flatten_list(CCosets_list) + Grid_dU_Diagonal(n,epsilon)"
      ],
      "execution_count": null,
      "outputs": []
    },
    {
      "cell_type": "code",
      "metadata": {
        "id": "7ff8QoUOpBTZ"
      },
      "source": [
        "def Text_DiagonalBaseDict(n, w_e_pairs_list, dtheta, epsilon_grid):\n",
        "    \"\"\"\n",
        "    This func samples random matrices around the diagonal from a queue,\n",
        "    it used the word - epsilon  pairs for use a queue that holds\n",
        "    the Grid's matrices, in each use of a pair with 'low frec' - lf,\n",
        "    it samples some matrices from the grid until it remains empty.\n",
        "    \"\"\"\n",
        "\n",
        "    # Create dequeue for elements in grid\n",
        "    deq = collections.deque( Grid_dU(n, epsilon_grid) )\n",
        "\n",
        "    basis = {}\n",
        "\n",
        "    for i, (w, epsilon, kind) in enumerate(tqdm(w_e_pairs_list)):  \n",
        "        if kind == \"lf\":\n",
        "            if len(deq) > 0:\n",
        "                basis[w] = deq.pop()\n",
        "            else:\n",
        "                basis[w] = QuasiDiagonalBasisElement(n,epsilon, dtheta,i)\n",
        "        else:\n",
        "            basis[w] = QuasiDiagonalBasisElement(n,epsilon,dtheta,i)\n",
        "    \n",
        "    return basis"
      ],
      "execution_count": null,
      "outputs": []
    },
    {
      "cell_type": "code",
      "metadata": {
        "id": "hAAGNpA4BLRt"
      },
      "source": [
        "########################\n",
        "# Householder decompositions\n",
        "#########################"
      ],
      "execution_count": null,
      "outputs": []
    },
    {
      "cell_type": "code",
      "metadata": {
        "id": "2c-EV3SFAiH8"
      },
      "source": [
        "def HouseholderLeftDecomposition(W):\n",
        "    H = W.copy()  \n",
        "    n = H.shape[0]\n",
        "\n",
        "    ee = np.identity(n)\n",
        "\n",
        "    factor_list = []\n",
        "\n",
        "    for i in range(H.shape[0]-1):\n",
        "\n",
        "        col = H[:,i]\n",
        "        phase = np.angle(col[i])\n",
        "        u = np.array([col + np.exp(1j*phase)*ee[i] ])\n",
        "        uu = u.conj().T.dot(u)\n",
        "        Q = (ee - 2*uu/np.real(np.trace(uu))).T\n",
        "        H = Q.dot(H)\n",
        "        factor_list.append(Q)\n",
        "\n",
        "    factor_list.append(H)\n",
        "\n",
        "    return factor_list\n",
        "\n",
        "def CanonicalCosetLeftDecomposition(W):\n",
        "    \n",
        "    def ReflectionMatrix(n,i):\n",
        "        if i < n-1:\n",
        "            r = np.identity(n)\n",
        "            r[i,i] = -1\n",
        "            return r\n",
        "        elif i == n-1:\n",
        "            r = -np.identity(n)\n",
        "            r[i,i] = 1\n",
        "            return r\n",
        "    \n",
        "    n = W.shape[0]\n",
        "    \n",
        "    factors = HouseholderLeftDecomposition(W)\n",
        "    \n",
        "    factors = [ F@ReflectionMatrix(n,i) for i,F in enumerate(factors) ]\n",
        "    \n",
        "    return factors\n",
        "\n",
        "\n",
        "\n",
        "# The trick is to extract the independent parameters from each Householder matrix\n",
        "\n",
        "def CanonicalCosetPosition(C,i):\n",
        "    n = C.shape[0]\n",
        "    if i < n-1:\n",
        "        return C[i,i+1:]\n",
        "    elif i == n-1:\n",
        "        return np.diag(C)\n",
        "\n",
        "\n",
        "def CanonicalCosetLeftDecompositionParametersComplex(W):\n",
        "    factors = CanonicalCosetLeftDecomposition(W)\n",
        "    \n",
        "    positions = [ CanonicalCosetPosition(f,i) for i,f in enumerate(factors) ]\n",
        "    \n",
        "    return positions\n",
        "\n",
        "def CanonicalCosetLeftDecompositionParametersReal(W):\n",
        "    \n",
        "    def CanonicalCosetPosition(C,i):\n",
        "        n = C.shape[0]\n",
        "        if i<n-1:\n",
        "            return C[i,i+1:]\n",
        "        elif i == n-1:\n",
        "            return np.diag(C)\n",
        "    \n",
        "    n = W.shape[0]\n",
        "    \n",
        "    factors = CanonicalCosetLeftDecomposition(W)\n",
        "    \n",
        "    positions = np.concatenate(\n",
        "        [ CanonicalCosetPosition(f,i) for i,f in enumerate(factors) if i<n-1 ])\n",
        "    \n",
        "    # positions = np.concatenate([ np.real(positions) , np.imag(positions) ])\n",
        "    # phases = np.real(np.angle( np.diag(factors[n-1]) ))\n",
        "\n",
        "    positions = np.array([ (np.real(x),np.imag(x)) for x in positions  ]).flatten()\n",
        "    phases = np.real(np.angle( np.diag(factors[n-1]) ))\n",
        "    \n",
        "    \n",
        "    return  np.concatenate( [positions,phases] )\n",
        "\n",
        "\n",
        "## create function for create the composite matrix\n",
        "#  we multiply the sequence of matrices\n",
        "# and we obtain a final composite matrix\n",
        "\n",
        "def create_composite_matrix(text_to_matrix_dict:dict , input_tokens:list):\n",
        "\n",
        "    M = text_to_matrix_dict[ input_tokens[0] ]\n",
        "\n",
        "    for a in input_tokens:\n",
        "        M = M.dot(text_to_matrix_dict[a])\n",
        "\n",
        "    return M\n",
        "\n",
        "def create_embeding_matrix(words_to_unitary_dict:dict, text_inputs:list ):\n",
        "    \"\"\"\n",
        "    Creates the embeding representation for some list of texts inputs. \n",
        "        e.g. : text_inputs = [\"this, \"is\", \"one\", \"example\"]\n",
        "    \"\"\"\n",
        "\n",
        "    # Create composite matrix for token inputs \n",
        "    W = create_composite_matrix(words_to_unitary_dict, input_tokens = text_inputs)\n",
        "\n",
        "    # Create embeding\n",
        "    E = CanonicalCosetLeftDecompositionParametersReal(W)\n",
        "\n",
        "    return E"
      ],
      "execution_count": null,
      "outputs": []
    },
    {
      "cell_type": "markdown",
      "metadata": {
        "id": "ES9eeOq2BraK"
      },
      "source": [
        "## Text Classification Setup"
      ]
    },
    {
      "cell_type": "code",
      "metadata": {
        "colab": {
          "base_uri": "https://localhost:8080/"
        },
        "id": "rRpnPgdQpHfA",
        "outputId": "d8cbbee9-c254-4242-ff4f-c97ecc37ae13"
      },
      "source": [
        "import torch\n",
        "import torch.nn as nn\n",
        "import torch.nn.functional as F\n",
        "import torch.optim as optim\n",
        "from torchtext.data.utils import get_tokenizer\n",
        "\n",
        "from torchtext.datasets import AmazonReviewPolarity\n",
        "\n",
        "from torch.autograd import Function\n",
        "from torch.utils.data.dataset import random_split\n",
        "from torch.utils.data import DataLoader, random_split, Dataset\n",
        "from torchvision import transforms, datasets\n",
        "\n",
        "torch.manual_seed(1)"
      ],
      "execution_count": null,
      "outputs": [
        {
          "output_type": "execute_result",
          "data": {
            "text/plain": [
              "<torch._C.Generator at 0x7f0666bd7df0>"
            ]
          },
          "metadata": {},
          "execution_count": 9
        }
      ]
    },
    {
      "cell_type": "code",
      "metadata": {
        "colab": {
          "base_uri": "https://localhost:8080/"
        },
        "id": "ui1DarPSrGKK",
        "outputId": "83037666-a818-447a-cf7e-cda4ecb7dfaf"
      },
      "source": [
        "import collections\n",
        "from collections import Counter\n",
        "\n",
        "import nltk\n",
        "from nltk.corpus import wordnet as wn\n",
        "\n",
        "from tqdm import tqdm\n",
        "import pandas as pd\n",
        "import time\n",
        "\n",
        "import matplotlib.pyplot as plt\n",
        "\n",
        "nltk.download('wordnet')"
      ],
      "execution_count": null,
      "outputs": [
        {
          "output_type": "stream",
          "text": [
            "[nltk_data] Downloading package wordnet to /root/nltk_data...\n",
            "[nltk_data]   Unzipping corpora/wordnet.zip.\n"
          ],
          "name": "stdout"
        },
        {
          "output_type": "execute_result",
          "data": {
            "text/plain": [
              "True"
            ]
          },
          "metadata": {},
          "execution_count": 10
        }
      ]
    },
    {
      "cell_type": "code",
      "metadata": {
        "colab": {
          "base_uri": "https://localhost:8080/"
        },
        "id": "jgFn_UxdrKa3",
        "outputId": "2027a5b7-94b1-4f48-f44b-b8e8384ad2d8"
      },
      "source": [
        "device = torch.device(\"cuda\" if torch.cuda.is_available() else \"cpu\")\n",
        "device"
      ],
      "execution_count": null,
      "outputs": [
        {
          "output_type": "execute_result",
          "data": {
            "text/plain": [
              "device(type='cpu')"
            ]
          },
          "metadata": {},
          "execution_count": 11
        }
      ]
    },
    {
      "cell_type": "code",
      "metadata": {
        "id": "fz3NtwI9rNn3",
        "colab": {
          "base_uri": "https://localhost:8080/"
        },
        "outputId": "84cf45d6-af29-4d7c-992b-f8065fd1f097"
      },
      "source": [
        "from torchtext.data.utils import get_tokenizer\n",
        "from torchtext.vocab import build_vocab_from_iterator\n",
        "\n",
        "from torchtext.vocab import Vocab\n",
        "\n",
        "tokenizer = get_tokenizer('basic_english')\n",
        "\n",
        "# Load the dataset generators\n",
        "train_iter, val_iter = AmazonReviewPolarity()\n"
      ],
      "execution_count": null,
      "outputs": [
        {
          "output_type": "stream",
          "text": [
            "amazon_review_polarity_csv.tar.gz: 688MB [00:04, 169MB/s]\n"
          ],
          "name": "stderr"
        }
      ]
    },
    {
      "cell_type": "code",
      "metadata": {
        "id": "xZ-mvU-Lsmeb"
      },
      "source": [
        "# Create the Counter object that holds our\n",
        "# word - count pairs that will be used \n",
        "# in the epsilon calculations \n",
        "\n",
        "labels = []\n",
        "counter = Counter()\n",
        "sizes = []\n",
        "\n",
        "for (label, line) in train_iter:\n",
        "    counter.update(tokenizer(line))\n",
        "    labels.append(label)\n",
        "    sizes.append(len(line))\n",
        "    \n",
        "for (label, line) in val_iter:\n",
        "    counter.update(tokenizer(line))\n",
        "    labels.append(label)\n",
        "\n"
      ],
      "execution_count": null,
      "outputs": []
    },
    {
      "cell_type": "code",
      "metadata": {
        "id": "rW5WvWTErQ0f"
      },
      "source": [
        "# load again the dataset because of the generator used before\n",
        "\n",
        "train_iter, val_iter = AmazonReviewPolarity()\n",
        "\n",
        "def yield_tokens(data_iter):\n",
        "    for _, text in data_iter:\n",
        "        yield tokenizer(text)\n",
        "\n",
        "# Construct the vocab\n",
        "vocab = build_vocab_from_iterator(yield_tokens(train_iter + val_iter), specials=[\"<unk>\"])\n",
        "\n",
        "vocab.set_default_index(vocab[\"<unk>\"])\n"
      ],
      "execution_count": null,
      "outputs": []
    },
    {
      "cell_type": "code",
      "metadata": {
        "id": "Sxr3ZY7SrTOZ",
        "colab": {
          "base_uri": "https://localhost:8080/"
        },
        "outputId": "14053916-6cca-48f2-bbb5-faa879b1330b"
      },
      "source": [
        "# Get some constats.\n",
        "\n",
        "VOCAB_SIZE = len(vocab)\n",
        "print(VOCAB_SIZE)\n",
        "\n",
        "UNIQUE_WORDS = vocab.get_itos()\n",
        "FREC_DICT =  dict(counter)"
      ],
      "execution_count": null,
      "outputs": [
        {
          "output_type": "stream",
          "text": [
            "1685001\n"
          ],
          "name": "stdout"
        }
      ]
    },
    {
      "cell_type": "code",
      "metadata": {
        "colab": {
          "base_uri": "https://localhost:8080/"
        },
        "id": "1yt-7a4ursMY",
        "outputId": "5f13d344-3f0f-40bd-b40f-be2cef7904fb"
      },
      "source": [
        "# Calculate the word - epsilon pairs.\n",
        "\n",
        "w_e_pairs_simple = create_unique_words_with_epsilon(\n",
        "        FREC_DICT,\n",
        "        UNIQUE_WORDS,\n",
        "        lf_e=0.0001,\n",
        "        hf_e=0.001,\n",
        "        lf_range=0,\n",
        "        hf_range=825\n",
        "    )\n",
        "\n",
        "print(w_e_pairs_simple[:10])"
      ],
      "execution_count": null,
      "outputs": [
        {
          "output_type": "stream",
          "text": [
            "100%|██████████| 1685001/1685001 [00:03<00:00, 478520.62it/s]"
          ],
          "name": "stderr"
        },
        {
          "output_type": "stream",
          "text": [
            "[('<unk>', 1e-06, 'unk'), ('.', 0.001, 'hf'), ('the', 0.001, 'hf'), (',', 0.001, 'hf'), ('i', 0.001, 'hf'), ('and', 0.001, 'hf'), ('a', 0.001, 'hf'), ('to', 0.001, 'hf'), ('it', 0.001, 'hf'), ('of', 0.001, 'hf')]\n"
          ],
          "name": "stdout"
        },
        {
          "output_type": "stream",
          "text": [
            "\n"
          ],
          "name": "stderr"
        }
      ]
    },
    {
      "cell_type": "code",
      "metadata": {
        "colab": {
          "base_uri": "https://localhost:8080/"
        },
        "id": "GGEIz9kl0caU",
        "outputId": "2855b149-ca2a-47c6-ace0-2dec1ce2a1a9"
      },
      "source": [
        "# Count the high frec words and low frec words.\n",
        "\n",
        "labels_tokens = [sample[2] for sample in w_e_pairs_simple ]\n",
        "\n",
        "labels_tokens[:10]\n",
        "\n",
        "c = Counter(labels_tokens)\n",
        "c"
      ],
      "execution_count": null,
      "outputs": [
        {
          "output_type": "execute_result",
          "data": {
            "text/plain": [
              "Counter({'hf': 13289, 'lf': 1671711, 'unk': 1})"
            ]
          },
          "metadata": {},
          "execution_count": 17
        }
      ]
    },
    {
      "cell_type": "code",
      "metadata": {
        "colab": {
          "base_uri": "https://localhost:8080/"
        },
        "id": "Vr1kPgEp6UZs",
        "outputId": "ed916e7b-1034-435c-c18d-8ec98adc2ef6"
      },
      "source": [
        "# Assign a random unitary matrix to a given word (tokenization with matrix instead of a number).\n",
        "# We feed the w_e_pairs and based on the word frecuency, we create a random\n",
        "# unitary matrix for the given word w_\n",
        "\n",
        "# Size of the unitary matrix\n",
        "N = 5\n",
        "\n",
        "# Thete is used as some hypter param in the Quasi Diagonal matrix creation process.\n",
        "# this number works great in AGNews dataset\n",
        "theta = 0.0001\n",
        "\n",
        "# The epsilon that will be used in the Grids's matrices for low frec words samples.\n",
        "# this will override the actual low frec words epsilon until the queue going to empty.\n",
        "epsilon_grid = 0.001\n",
        "\n",
        "# Token (word) to RandomUnitary NxN map\n",
        "AA_dict = Text_DiagonalBaseDict( N, w_e_pairs_simple, theta, epsilon_grid )\n"
      ],
      "execution_count": null,
      "outputs": [
        {
          "output_type": "stream",
          "text": [
            "100%|██████████| 1685001/1685001 [1:25:22<00:00, 328.97it/s]\n"
          ],
          "name": "stderr"
        }
      ]
    },
    {
      "cell_type": "markdown",
      "metadata": {
        "id": "QHCOuz45EFRk"
      },
      "source": [
        "Use some standar ML libraries for handle the dataset creation (new features vectors from the procedure)"
      ]
    },
    {
      "cell_type": "code",
      "metadata": {
        "id": "kxRfsQRZ5C7u"
      },
      "source": [
        "from sklearn.preprocessing import StandardScaler\n",
        "import seaborn as sns\n",
        "\n",
        "tqdm.pandas()"
      ],
      "execution_count": null,
      "outputs": []
    },
    {
      "cell_type": "code",
      "metadata": {
        "id": "5cY6IUDC5C_4"
      },
      "source": [
        "# Since the lables are  1 and 2\n",
        "# we must to start the labels from 0 instead of 1.\n",
        "\n",
        "label_pipeline = lambda x: int(x) - 1\n",
        "\n",
        "# tokenization process for word to number\n",
        "text_pipeline = lambda x: tokenizer(x)\n",
        "\n",
        "\n",
        "def convert_text_to_features(AA_dict, text):\n",
        "    \"\"\"\n",
        "    This functions resumes all the staps for create the vector features from the text input\n",
        "    based on the new procedure.\n",
        "\n",
        "    Inputs:\n",
        "        AA_dict: dict that holds the map from Word to Random Unitary Matrix.\n",
        "\n",
        "    \"\"\"\n",
        "\n",
        "    # create tokens from text input\n",
        "    text_tokens = text_pipeline(text)\n",
        "\n",
        "    # Create feature vector using the AA_dict map and the tokens\n",
        "    embedding = create_embeding_matrix( words_to_unitary_dict = AA_dict, text_inputs = text_tokens  )\n",
        "\n",
        "    # Create dict for the dataset pipeline\n",
        "    sample = {\"Text\": np.float32(embedding), \"Class\": label}\n",
        "\n",
        "    return sample\n",
        "\n",
        "\n",
        "def create_features_label_df(input_dataframe, AA_dict:dict ):\n",
        "    \"\"\"\n",
        "    This functions takes the original dataset dataframe and creates new columns\n",
        "    that holds the vector representation called \"features\" for the column \"text\" \n",
        "    \"\"\"\n",
        "    \n",
        "    _df = input_dataframe.copy()\n",
        "    \n",
        "    # Calculate embeeded representation for text\n",
        "    _df[\"features\"] = _df[\"Text\"].progress_apply(\n",
        "        lambda x: convert_text_to_features(AA_dict, x)[\"Text\"])\n",
        "    \n",
        "    # Create features columns\n",
        "    features = _df[\"features\"].apply(pd.Series)\n",
        "    features = features.rename(columns = lambda x : 'feature_' + str(x))\n",
        "    new_df = pd.concat([_df[[\"Text\",\"Class\"]], features[:]], axis=1)\n",
        "\n",
        "    return new_df"
      ],
      "execution_count": null,
      "outputs": []
    },
    {
      "cell_type": "code",
      "metadata": {
        "colab": {
          "base_uri": "https://localhost:8080/"
        },
        "id": "8we8TSFx4gfr",
        "outputId": "b2ee1cf8-e343-4bd1-ab50-c819b7dccb69"
      },
      "source": [
        "# Show the size of the training set 36 Millions of samples.\n",
        "len(train_iter)"
      ],
      "execution_count": null,
      "outputs": [
        {
          "output_type": "execute_result",
          "data": {
            "text/plain": [
              "3600000"
            ]
          },
          "metadata": {},
          "execution_count": 22
        }
      ]
    },
    {
      "cell_type": "code",
      "metadata": {
        "id": "emy_Knfw5DDV"
      },
      "source": [
        "# Create dataset generators again.\n",
        "train_iter, test_iter = AmazonReviewPolarity()\n",
        "\n",
        "# Convert generators to list\n",
        "train_dataset = list(train_iter)\n",
        "test_dataset = list(test_iter)\n",
        "\n",
        "# Split the dataset \n",
        "num_train = int(len(train_dataset) * 0.95)\n",
        "\n",
        "# Create validation set\n",
        "split_train_, split_valid_ = \\\n",
        "    random_split(train_dataset, [num_train, len(train_dataset) - num_train])\n",
        "\n",
        "\n",
        "# Create train, val, test sets\n",
        "train_pairs = [{\"Text\": line, \"Class\": label} for (label, line) in split_train_]\n",
        "valid_pairs = [{\"Text\": line, \"Class\": label} for (label, line) in split_valid_]\n",
        "test_pairs  = [{\"Text\": line, \"Class\": label} for (label, line) in test_dataset]\n",
        "\n",
        "\n",
        "# create Pandas DataFrame\n",
        "text_labels_df_train = pd.DataFrame(train_pairs)\n",
        "text_labels_df_valid = pd.DataFrame(valid_pairs)\n",
        "text_labels_df_test = pd.DataFrame(test_pairs)"
      ],
      "execution_count": null,
      "outputs": []
    },
    {
      "cell_type": "code",
      "metadata": {
        "colab": {
          "base_uri": "https://localhost:8080/",
          "height": 407
        },
        "id": "zGDSk1AO0Crn",
        "outputId": "0d99c5da-042c-4bb3-f917-d8a8b7782307"
      },
      "source": [
        "# Show some part of the train set.\n",
        "text_labels_df_train"
      ],
      "execution_count": null,
      "outputs": [
        {
          "output_type": "execute_result",
          "data": {
            "text/html": [
              "<div>\n",
              "<style scoped>\n",
              "    .dataframe tbody tr th:only-of-type {\n",
              "        vertical-align: middle;\n",
              "    }\n",
              "\n",
              "    .dataframe tbody tr th {\n",
              "        vertical-align: top;\n",
              "    }\n",
              "\n",
              "    .dataframe thead th {\n",
              "        text-align: right;\n",
              "    }\n",
              "</style>\n",
              "<table border=\"1\" class=\"dataframe\">\n",
              "  <thead>\n",
              "    <tr style=\"text-align: right;\">\n",
              "      <th></th>\n",
              "      <th>Text</th>\n",
              "      <th>Class</th>\n",
              "    </tr>\n",
              "  </thead>\n",
              "  <tbody>\n",
              "    <tr>\n",
              "      <th>0</th>\n",
              "      <td>POS The picture is a lie, the inside is cardbo...</td>\n",
              "      <td>1</td>\n",
              "    </tr>\n",
              "    <tr>\n",
              "      <th>1</th>\n",
              "      <td>very informative I was very impressed with the...</td>\n",
              "      <td>2</td>\n",
              "    </tr>\n",
              "    <tr>\n",
              "      <th>2</th>\n",
              "      <td>Don't waste your money Bad product. When I tri...</td>\n",
              "      <td>1</td>\n",
              "    </tr>\n",
              "    <tr>\n",
              "      <th>3</th>\n",
              "      <td>One adjective: ADRENALINE-PUMPING !!! \"Say Any...</td>\n",
              "      <td>2</td>\n",
              "    </tr>\n",
              "    <tr>\n",
              "      <th>4</th>\n",
              "      <td>It's all you need I stated off with Casenote L...</td>\n",
              "      <td>2</td>\n",
              "    </tr>\n",
              "    <tr>\n",
              "      <th>...</th>\n",
              "      <td>...</td>\n",
              "      <td>...</td>\n",
              "    </tr>\n",
              "    <tr>\n",
              "      <th>3419995</th>\n",
              "      <td>why did i do it i thought it would be a combo ...</td>\n",
              "      <td>1</td>\n",
              "    </tr>\n",
              "    <tr>\n",
              "      <th>3419996</th>\n",
              "      <td>bring it on agian ...sucks I have one word for...</td>\n",
              "      <td>1</td>\n",
              "    </tr>\n",
              "    <tr>\n",
              "      <th>3419997</th>\n",
              "      <td>This came along at just the right time! I had ...</td>\n",
              "      <td>2</td>\n",
              "    </tr>\n",
              "    <tr>\n",
              "      <th>3419998</th>\n",
              "      <td>no more flip disc please I thought it was the ...</td>\n",
              "      <td>1</td>\n",
              "    </tr>\n",
              "    <tr>\n",
              "      <th>3419999</th>\n",
              "      <td>nice boots seems to be a good product, a great...</td>\n",
              "      <td>2</td>\n",
              "    </tr>\n",
              "  </tbody>\n",
              "</table>\n",
              "<p>3420000 rows × 2 columns</p>\n",
              "</div>"
            ],
            "text/plain": [
              "                                                      Text  Class\n",
              "0        POS The picture is a lie, the inside is cardbo...      1\n",
              "1        very informative I was very impressed with the...      2\n",
              "2        Don't waste your money Bad product. When I tri...      1\n",
              "3        One adjective: ADRENALINE-PUMPING !!! \"Say Any...      2\n",
              "4        It's all you need I stated off with Casenote L...      2\n",
              "...                                                    ...    ...\n",
              "3419995  why did i do it i thought it would be a combo ...      1\n",
              "3419996  bring it on agian ...sucks I have one word for...      1\n",
              "3419997  This came along at just the right time! I had ...      2\n",
              "3419998  no more flip disc please I thought it was the ...      1\n",
              "3419999  nice boots seems to be a good product, a great...      2\n",
              "\n",
              "[3420000 rows x 2 columns]"
            ]
          },
          "metadata": {},
          "execution_count": 24
        }
      ]
    },
    {
      "cell_type": "markdown",
      "metadata": {
        "id": "wyc4ZRVsGIyS"
      },
      "source": [
        "Here we are using the function pipeline for create the dataframes for train, val and test sets that holds the new features text representation."
      ]
    },
    {
      "cell_type": "code",
      "metadata": {
        "id": "IJnx_luA5DHk",
        "colab": {
          "base_uri": "https://localhost:8080/"
        },
        "outputId": "4f81a677-3a77-488e-9099-b05d3775eaed"
      },
      "source": [
        "# THIS IS TIME and SPACE CONSUMING for this dataset , with N = 5 it blows 24 GB RAM\n",
        "\n",
        "train_fea_df = create_features_label_df(text_labels_df_train, AA_dict = AA_dict)\n",
        "valid_fea_df = create_features_label_df(text_labels_df_valid, AA_dict = AA_dict)\n",
        "test_fea_df  =  create_features_label_df(text_labels_df_test, AA_dict = AA_dict)\n"
      ],
      "execution_count": null,
      "outputs": [
        {
          "output_type": "stream",
          "text": [
            "100%|██████████| 3420000/3420000 [34:52<00:00, 1634.67it/s]\n"
          ],
          "name": "stderr"
        }
      ]
    },
    {
      "cell_type": "markdown",
      "metadata": {
        "id": "aobczVGikPzv"
      },
      "source": [
        "Once we obtain our new feature representation for our text, we create the corresponding X,y pairs for train, val and test sets."
      ]
    },
    {
      "cell_type": "code",
      "metadata": {
        "id": "Bp4zooDcG1fp"
      },
      "source": [
        "\n",
        "# Train pairs\n",
        "X_train_raw = train_fea_df.iloc[:, 2:]\n",
        "y_train = train_fea_df.iloc[:, 1]\n",
        "\n",
        "# Valid pairs\n",
        "X_valid_raw = valid_fea_df.iloc[:, 2:]\n",
        "y_valid = valid_fea_df.iloc[:, 1]\n",
        "\n",
        "# Test pairs\n",
        "X_test_raw = test_fea_df.iloc[:, 2:]\n",
        "y_test = test_fea_df.iloc[:, 1]\n"
      ],
      "execution_count": null,
      "outputs": []
    },
    {
      "cell_type": "code",
      "metadata": {
        "id": "np_dZLuZG4R7"
      },
      "source": [
        "# Standardize Input\n",
        "scaler = StandardScaler()"
      ],
      "execution_count": null,
      "outputs": []
    },
    {
      "cell_type": "code",
      "metadata": {
        "id": "VBT3eHurG63U"
      },
      "source": [
        "X_train = scaler.fit_transform(X_train_raw)\n",
        "X_valid = scaler.transform(X_valid_raw)\n",
        "X_test = scaler.transform(X_test_raw)"
      ],
      "execution_count": null,
      "outputs": []
    },
    {
      "cell_type": "code",
      "metadata": {
        "id": "pVn7WotPks85"
      },
      "source": [
        "# MODEL"
      ],
      "execution_count": null,
      "outputs": []
    },
    {
      "cell_type": "markdown",
      "metadata": {
        "id": "uqosExw4GtYA"
      },
      "source": [
        "We define a simple model  NxNxBatchSize  -> NxN -> 2"
      ]
    },
    {
      "cell_type": "code",
      "metadata": {
        "id": "Y6xxCj2Cktrx"
      },
      "source": [
        "class TextClassificationModelQM(nn.Module):\n",
        "\n",
        "    def __init__(self,  embed_dim, num_class):\n",
        "        super(TextClassificationModelQM, self).__init__()\n",
        "        \n",
        "        self.fc = nn.Linear(embed_dim, num_class)\n",
        "        self.init_weights()\n",
        "\n",
        "    def init_weights(self):\n",
        "        initrange = 0.5\n",
        "        self.fc.weight.data.uniform_(-initrange, initrange)\n",
        "        self.fc.bias.data.zero_()\n",
        "\n",
        "    def forward(self, embedding):\n",
        "        \n",
        "        return self.fc(embedding)"
      ],
      "execution_count": null,
      "outputs": []
    },
    {
      "cell_type": "code",
      "metadata": {
        "id": "AvrbjqXfkxx2"
      },
      "source": [
        "\n",
        "def train(dataloader):\n",
        "    print(\"Training...\")\n",
        "    model.train()\n",
        "    total_acc, total_count = 0, 0\n",
        "    log_interval = 500\n",
        "    start_time = time.time()\n",
        "\n",
        "    running_loss = 0.0\n",
        "\n",
        "    for idx, (text, label) in enumerate(dataloader):\n",
        "        \n",
        "        optimizer.zero_grad()\n",
        "        predited_label = model(text)\n",
        "        loss = criterion(predited_label, label)\n",
        "        loss.backward()\n",
        "\n",
        "        torch.nn.utils.clip_grad_norm_(model.parameters(), 0.1)\n",
        "\n",
        "        optimizer.step()\n",
        "\n",
        "        total_acc += (predited_label.argmax(1) == label).sum().item()\n",
        "        total_count += label.size(0)\n",
        "\n",
        "        if idx % log_interval == 0 and idx > 0:\n",
        "            elapsed = time.time() - start_time\n",
        "            print('| epoch {:3d} | {:5d}/{:5d} batches '\n",
        "                  '| accuracy {:8.3f}'.format(epoch, idx, len(dataloader),\n",
        "                                              total_acc/total_count))\n",
        "            total_acc, total_count = 0, 0\n",
        "            start_time = time.time()\n",
        "\n",
        "        running_loss += loss.item() *text.shape[0]\n",
        "\n",
        "    return running_loss\n",
        "    \n",
        "def evaluate(dataloader):\n",
        "    model.eval()\n",
        "    total_acc, total_count = 0, 0\n",
        "\n",
        "    with torch.no_grad():\n",
        "        for idx, (text, label) in enumerate(dataloader):\n",
        "            predited_label = model(text)\n",
        "            loss = criterion(predited_label, label)\n",
        "            total_acc += (predited_label.argmax(1) == label).sum().item()\n",
        "            total_count += label.size(0)\n",
        "    return total_acc/total_count\n"
      ],
      "execution_count": null,
      "outputs": []
    },
    {
      "cell_type": "code",
      "metadata": {
        "colab": {
          "base_uri": "https://localhost:8080/"
        },
        "id": "HNjNei3bk5-r",
        "outputId": "2ac880d4-4515-48a3-b8fa-1c2326a19a50"
      },
      "source": [
        "# Create model\n",
        "num_class = len(list(set(labels)))\n",
        "print(num_class)\n",
        "\n",
        "model = TextClassificationModelQM(N*N, num_class).to(device)"
      ],
      "execution_count": null,
      "outputs": [
        {
          "output_type": "stream",
          "text": [
            "2\n"
          ],
          "name": "stdout"
        }
      ]
    },
    {
      "cell_type": "code",
      "metadata": {
        "id": "tEEEdTASk-NK"
      },
      "source": [
        "# Hyperparameters\n",
        "EPOCHS = 10         # epoch\n",
        "LR = 0.001             # learning rate\n",
        "BATCH_SIZE = 32     # batch size for training\n"
      ],
      "execution_count": null,
      "outputs": []
    },
    {
      "cell_type": "code",
      "metadata": {
        "id": "uyH6ZBx7lGDP"
      },
      "source": [
        "# Define Custom Text dataset loader\n",
        "\n",
        "class CustomTextDatasetNEW(Dataset):\n",
        "    def __init__(self, X_data, y_data):\n",
        "        \n",
        "        self.X_data = X_data\n",
        "        self.y_data = y_data\n",
        "        \n",
        "    def __len__(self):\n",
        "        return len(self.X_data)\n",
        "\n",
        "    def __getitem__(self, index):\n",
        "        \n",
        "        target = label_pipeline(self.y_data[index])\n",
        "        \n",
        "        return self.X_data[index],  torch.tensor(target, dtype=torch.int64).to(device)"
      ],
      "execution_count": null,
      "outputs": []
    },
    {
      "cell_type": "code",
      "metadata": {
        "id": "1o4_85c0lCDs"
      },
      "source": [
        "\n",
        "#print(text_labels_df_train.head())\n",
        "# define data set object\n",
        "\n",
        "TD_train = CustomTextDatasetNEW(\n",
        "    torch.FloatTensor(X_train).to(device),y_train)\n",
        "\n",
        "TD_valid = CustomTextDatasetNEW(\n",
        "    torch.FloatTensor(X_valid).to(device),y_valid)\n",
        "\n",
        "TD_test = CustomTextDatasetNEW(\n",
        "    torch.FloatTensor(X_test).to(device), y_test)\n",
        "\n",
        "\n",
        "\n",
        "train_dataloader = DataLoader(TD_train, batch_size=BATCH_SIZE,\n",
        "                              shuffle=True, )\n",
        "valid_dataloader = DataLoader(TD_valid, batch_size=BATCH_SIZE,\n",
        "                              shuffle=False,)\n",
        "test_dataloader = DataLoader(TD_test, batch_size=BATCH_SIZE,\n",
        "                             shuffle=False, )\n"
      ],
      "execution_count": null,
      "outputs": []
    },
    {
      "cell_type": "code",
      "metadata": {
        "colab": {
          "base_uri": "https://localhost:8080/"
        },
        "id": "_rnpBsvMlLqo",
        "outputId": "4b1ed274-9b95-4015-a5ac-0ae8d1006c5e"
      },
      "source": [
        "len(valid_dataloader)"
      ],
      "execution_count": null,
      "outputs": [
        {
          "output_type": "execute_result",
          "data": {
            "text/plain": [
              "20"
            ]
          },
          "metadata": {},
          "execution_count": 56
        }
      ]
    },
    {
      "cell_type": "code",
      "metadata": {
        "colab": {
          "base_uri": "https://localhost:8080/"
        },
        "id": "qeHDFzn3lPMA",
        "outputId": "51b34bab-bad6-49db-984d-4a8e92094c07"
      },
      "source": [
        "\n",
        "criterion = torch.nn.CrossEntropyLoss()\n",
        "#optimizer = torch.optim.SGD(model.parameters(), lr=LR)\n",
        "optimizer = torch.optim.Adam(model.parameters(), lr=LR)\n",
        "\n",
        "scheduler = torch.optim.lr_scheduler.StepLR(optimizer, step_size = 3.0, gamma = 0.5)\n",
        "\n",
        "total_accu = None\n",
        "\n",
        "\n",
        "losses = []\n",
        "\n",
        "for epoch in range(1, EPOCHS + 1):\n",
        "    epoch_start_time = time.time()\n",
        "\n",
        "    running_loss = train(train_dataloader)\n",
        "    \n",
        "    accu_val = evaluate(valid_dataloader)\n",
        "\n",
        "    #if total_accu is not None and total_accu > accu_val:\n",
        "\n",
        "    scheduler.step()\n",
        "\n",
        "    #else:\n",
        "\n",
        "    total_accu = accu_val\n",
        "    \n",
        "    epoch_loss = running_loss / len(train_dataloader)\n",
        "    losses.append(epoch_loss)\n",
        "\n",
        "    print('-' * 59)\n",
        "    print('| end of epoch {:3d} | time: {:5.2f}s | '\n",
        "          'valid accuracy {:8.3f} '.format(epoch,\n",
        "                                           time.time() - epoch_start_time,\n",
        "                                           accu_val))\n",
        "    print('Epoch-{0} lr: {1}'.format(epoch, optimizer.param_groups[0]['lr']))\n",
        "    \n",
        "    print('Epoch-{0} loss: {1}'.format(epoch, losses[-1]))\n",
        "\n",
        "    print('-' * 59)"
      ],
      "execution_count": null,
      "outputs": [
        {
          "output_type": "stream",
          "text": [
            "Training...\n",
            "-----------------------------------------------------------\n",
            "| end of epoch   1 | time:  1.01s | valid accuracy    0.612 \n",
            "Epoch-1 lr: 0.001\n",
            "Epoch-1 loss: 109.27556233252248\n",
            "-----------------------------------------------------------\n",
            "Training...\n",
            "-----------------------------------------------------------\n",
            "| end of epoch   2 | time:  1.02s | valid accuracy    0.751 \n",
            "Epoch-2 lr: 0.001\n",
            "Epoch-2 loss: 53.32780144740177\n",
            "-----------------------------------------------------------\n",
            "Training...\n",
            "-----------------------------------------------------------\n",
            "| end of epoch   3 | time:  1.26s | valid accuracy    0.918 \n",
            "Epoch-3 lr: 0.0005\n",
            "Epoch-3 loss: 26.72815390019327\n",
            "-----------------------------------------------------------\n",
            "Training...\n",
            "-----------------------------------------------------------\n",
            "| end of epoch   4 | time:  1.31s | valid accuracy    0.958 \n",
            "Epoch-4 lr: 0.0005\n",
            "Epoch-4 loss: 14.8196582864289\n",
            "-----------------------------------------------------------\n",
            "Training...\n",
            "-----------------------------------------------------------\n",
            "| end of epoch   5 | time:  1.16s | valid accuracy    0.983 \n",
            "Epoch-5 lr: 0.0005\n",
            "Epoch-5 loss: 9.92642519599007\n",
            "-----------------------------------------------------------\n",
            "Training...\n",
            "-----------------------------------------------------------\n",
            "| end of epoch   6 | time:  1.09s | valid accuracy    0.993 \n",
            "Epoch-6 lr: 0.00025\n",
            "Epoch-6 loss: 6.725581915027672\n",
            "-----------------------------------------------------------\n",
            "Training...\n",
            "-----------------------------------------------------------\n",
            "| end of epoch   7 | time:  1.09s | valid accuracy    0.995 \n",
            "Epoch-7 lr: 0.00025\n",
            "Epoch-7 loss: 4.837555045221922\n",
            "-----------------------------------------------------------\n",
            "Training...\n",
            "-----------------------------------------------------------\n",
            "| end of epoch   8 | time:  1.16s | valid accuracy    0.996 \n",
            "Epoch-8 lr: 0.00025\n",
            "Epoch-8 loss: 3.9290902475195546\n",
            "-----------------------------------------------------------\n",
            "Training...\n",
            "-----------------------------------------------------------\n",
            "| end of epoch   9 | time:  1.07s | valid accuracy    0.998 \n",
            "Epoch-9 lr: 0.000125\n",
            "Epoch-9 loss: 3.2257891595363617\n",
            "-----------------------------------------------------------\n",
            "Training...\n",
            "-----------------------------------------------------------\n",
            "| end of epoch  10 | time:  1.24s | valid accuracy    0.998 \n",
            "Epoch-10 lr: 0.000125\n",
            "Epoch-10 loss: 2.7153938163712783\n",
            "-----------------------------------------------------------\n"
          ],
          "name": "stdout"
        }
      ]
    }
  ]
}